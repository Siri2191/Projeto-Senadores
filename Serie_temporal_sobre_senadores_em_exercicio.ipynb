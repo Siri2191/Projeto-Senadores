{
  "nbformat": 4,
  "nbformat_minor": 0,
  "metadata": {
    "colab": {
      "provenance": [],
      "authorship_tag": "ABX9TyM8Vc5O6fI0lx+CssjKQiaL",
      "include_colab_link": true
    },
    "kernelspec": {
      "name": "python3",
      "display_name": "Python 3"
    },
    "language_info": {
      "name": "python"
    }
  },
  "cells": [
    {
      "cell_type": "markdown",
      "metadata": {
        "id": "view-in-github",
        "colab_type": "text"
      },
      "source": [
        "<a href=\"https://colab.research.google.com/github/Siri2191/Projeto-Senadores/blob/main/Serie_temporal_sobre_senadores_em_exercicio.ipynb\" target=\"_parent\"><img src=\"https://colab.research.google.com/assets/colab-badge.svg\" alt=\"Open In Colab\"/></a>"
      ]
    },
    {
      "cell_type": "markdown",
      "source": [
        "<h1>Contexto</h1>\n",
        "\n",
        "---\n",
        "\n",
        "\n"
      ],
      "metadata": {
        "id": "2pTF3ErK0Ao4"
      }
    },
    {
      "cell_type": "markdown",
      "source": [
        "# Importação das bibliotecas\n",
        "\n",
        "---"
      ],
      "metadata": {
        "id": "0MbMkqij2P-k"
      }
    },
    {
      "cell_type": "code",
      "source": [
        "import pandas as pd\n",
        "import numpy as np\n"
      ],
      "metadata": {
        "id": "V-AeRXcR0AAo"
      },
      "execution_count": 1,
      "outputs": []
    },
    {
      "cell_type": "markdown",
      "source": [
        "# Chamando os dados\n",
        "---"
      ],
      "metadata": {
        "id": "kOZFblB45GxD"
      }
    },
    {
      "cell_type": "code",
      "execution_count": 2,
      "metadata": {
        "colab": {
          "base_uri": "https://localhost:8080/",
          "height": 531
        },
        "id": "2SxVc_uJz3BW",
        "outputId": "ae93ccae-8171-4189-88f1-3c6cb27b3a06"
      },
      "outputs": [
        {
          "output_type": "execute_result",
          "data": {
            "text/plain": [
              "  NOME_PARLAMENTAR PARTIDO  UF                        CHEFE_GAB SEXO  IDADE  \\\n",
              "0     ACIR GURGACZ     PDT  RO  Marcello Augusto Castro Varella    H     60   \n",
              "1     ACIR GURGACZ     PDT  RO  Marcello Augusto Castro Varella    H     60   \n",
              "2     ACIR GURGACZ     PDT  RO  Marcello Augusto Castro Varella    H     60   \n",
              "3     ACIR GURGACZ     PDT  RO  Marcello Augusto Castro Varella    H     60   \n",
              "4     ACIR GURGACZ     PDT  RO  Marcello Augusto Castro Varella    H     60   \n",
              "\n",
              "   MANDATO_INICIO  MANDATO_FINAL  TEMPO_MANDATO  PCT_DE_MANDATO  \\\n",
              "0            2015           2023              7            87.5   \n",
              "1            2015           2023              7            87.5   \n",
              "2            2015           2023              7            87.5   \n",
              "3            2015           2023              7            87.5   \n",
              "4            2015           2023              7            87.5   \n",
              "\n",
              "                                        TIPO_DESPESA            CNPJ_CPF  \\\n",
              "0  Aluguel de imóveis para escritório político, c...  05.914.650/0001-66   \n",
              "1  Aluguel de imóveis para escritório político, c...  05.914.650/0001-66   \n",
              "2  Aluguel de imóveis para escritório político, c...      004.948.028-63   \n",
              "3  Aluguel de imóveis para escritório político, c...  05.423.963/0001-11   \n",
              "4  Aquisição de material de consumo para uso no e...  07.170.542/0001-51   \n",
              "\n",
              "                                 FORNECEDOR  DOCUMENTO        DATA  \\\n",
              "0                                  ENERGISA     647777  2015-01-14   \n",
              "1                                  ENERGISA  000647776  2015-01-18   \n",
              "2             GILBERTO PISELO DO NASCIMENTO     001/15  2015-01-30   \n",
              "3                             OI MÓVEL S.A.  556241490  2015-01-19   \n",
              "4  INK JET INFORMATICA E PAPELARIA LTDA EPP      14654  2015-01-09   \n",
              "\n",
              "                                        DETALHAMENTO VALOR_REEMBOLSADO  \\\n",
              "0                                   Sem detalhamento             52,34   \n",
              "1  Despesa com pagamento de energia elétrica para...            168,17   \n",
              "2  Despesa com pagamento de aluguel de imóvel par...              5000   \n",
              "3  Despesa com pagamento de telefonia para uso do...            416,95   \n",
              "4  Despesa com material de consumo para uso do es...             108,5   \n",
              "\n",
              "   COD_DOCUMENTO  \n",
              "0      2000857.0  \n",
              "1      2001140.0  \n",
              "2      2001144.0  \n",
              "3      2001141.0  \n",
              "4      2001139.0  "
            ],
            "text/html": [
              "\n",
              "  <div id=\"df-6750a8e4-4e4f-4495-8a3f-895f322b5e63\">\n",
              "    <div class=\"colab-df-container\">\n",
              "      <div>\n",
              "<style scoped>\n",
              "    .dataframe tbody tr th:only-of-type {\n",
              "        vertical-align: middle;\n",
              "    }\n",
              "\n",
              "    .dataframe tbody tr th {\n",
              "        vertical-align: top;\n",
              "    }\n",
              "\n",
              "    .dataframe thead th {\n",
              "        text-align: right;\n",
              "    }\n",
              "</style>\n",
              "<table border=\"1\" class=\"dataframe\">\n",
              "  <thead>\n",
              "    <tr style=\"text-align: right;\">\n",
              "      <th></th>\n",
              "      <th>NOME_PARLAMENTAR</th>\n",
              "      <th>PARTIDO</th>\n",
              "      <th>UF</th>\n",
              "      <th>CHEFE_GAB</th>\n",
              "      <th>SEXO</th>\n",
              "      <th>IDADE</th>\n",
              "      <th>MANDATO_INICIO</th>\n",
              "      <th>MANDATO_FINAL</th>\n",
              "      <th>TEMPO_MANDATO</th>\n",
              "      <th>PCT_DE_MANDATO</th>\n",
              "      <th>TIPO_DESPESA</th>\n",
              "      <th>CNPJ_CPF</th>\n",
              "      <th>FORNECEDOR</th>\n",
              "      <th>DOCUMENTO</th>\n",
              "      <th>DATA</th>\n",
              "      <th>DETALHAMENTO</th>\n",
              "      <th>VALOR_REEMBOLSADO</th>\n",
              "      <th>COD_DOCUMENTO</th>\n",
              "    </tr>\n",
              "  </thead>\n",
              "  <tbody>\n",
              "    <tr>\n",
              "      <th>0</th>\n",
              "      <td>ACIR GURGACZ</td>\n",
              "      <td>PDT</td>\n",
              "      <td>RO</td>\n",
              "      <td>Marcello Augusto Castro Varella</td>\n",
              "      <td>H</td>\n",
              "      <td>60</td>\n",
              "      <td>2015</td>\n",
              "      <td>2023</td>\n",
              "      <td>7</td>\n",
              "      <td>87.5</td>\n",
              "      <td>Aluguel de imóveis para escritório político, c...</td>\n",
              "      <td>05.914.650/0001-66</td>\n",
              "      <td>ENERGISA</td>\n",
              "      <td>647777</td>\n",
              "      <td>2015-01-14</td>\n",
              "      <td>Sem detalhamento</td>\n",
              "      <td>52,34</td>\n",
              "      <td>2000857.0</td>\n",
              "    </tr>\n",
              "    <tr>\n",
              "      <th>1</th>\n",
              "      <td>ACIR GURGACZ</td>\n",
              "      <td>PDT</td>\n",
              "      <td>RO</td>\n",
              "      <td>Marcello Augusto Castro Varella</td>\n",
              "      <td>H</td>\n",
              "      <td>60</td>\n",
              "      <td>2015</td>\n",
              "      <td>2023</td>\n",
              "      <td>7</td>\n",
              "      <td>87.5</td>\n",
              "      <td>Aluguel de imóveis para escritório político, c...</td>\n",
              "      <td>05.914.650/0001-66</td>\n",
              "      <td>ENERGISA</td>\n",
              "      <td>000647776</td>\n",
              "      <td>2015-01-18</td>\n",
              "      <td>Despesa com pagamento de energia elétrica para...</td>\n",
              "      <td>168,17</td>\n",
              "      <td>2001140.0</td>\n",
              "    </tr>\n",
              "    <tr>\n",
              "      <th>2</th>\n",
              "      <td>ACIR GURGACZ</td>\n",
              "      <td>PDT</td>\n",
              "      <td>RO</td>\n",
              "      <td>Marcello Augusto Castro Varella</td>\n",
              "      <td>H</td>\n",
              "      <td>60</td>\n",
              "      <td>2015</td>\n",
              "      <td>2023</td>\n",
              "      <td>7</td>\n",
              "      <td>87.5</td>\n",
              "      <td>Aluguel de imóveis para escritório político, c...</td>\n",
              "      <td>004.948.028-63</td>\n",
              "      <td>GILBERTO PISELO DO NASCIMENTO</td>\n",
              "      <td>001/15</td>\n",
              "      <td>2015-01-30</td>\n",
              "      <td>Despesa com pagamento de aluguel de imóvel par...</td>\n",
              "      <td>5000</td>\n",
              "      <td>2001144.0</td>\n",
              "    </tr>\n",
              "    <tr>\n",
              "      <th>3</th>\n",
              "      <td>ACIR GURGACZ</td>\n",
              "      <td>PDT</td>\n",
              "      <td>RO</td>\n",
              "      <td>Marcello Augusto Castro Varella</td>\n",
              "      <td>H</td>\n",
              "      <td>60</td>\n",
              "      <td>2015</td>\n",
              "      <td>2023</td>\n",
              "      <td>7</td>\n",
              "      <td>87.5</td>\n",
              "      <td>Aluguel de imóveis para escritório político, c...</td>\n",
              "      <td>05.423.963/0001-11</td>\n",
              "      <td>OI MÓVEL S.A.</td>\n",
              "      <td>556241490</td>\n",
              "      <td>2015-01-19</td>\n",
              "      <td>Despesa com pagamento de telefonia para uso do...</td>\n",
              "      <td>416,95</td>\n",
              "      <td>2001141.0</td>\n",
              "    </tr>\n",
              "    <tr>\n",
              "      <th>4</th>\n",
              "      <td>ACIR GURGACZ</td>\n",
              "      <td>PDT</td>\n",
              "      <td>RO</td>\n",
              "      <td>Marcello Augusto Castro Varella</td>\n",
              "      <td>H</td>\n",
              "      <td>60</td>\n",
              "      <td>2015</td>\n",
              "      <td>2023</td>\n",
              "      <td>7</td>\n",
              "      <td>87.5</td>\n",
              "      <td>Aquisição de material de consumo para uso no e...</td>\n",
              "      <td>07.170.542/0001-51</td>\n",
              "      <td>INK JET INFORMATICA E PAPELARIA LTDA EPP</td>\n",
              "      <td>14654</td>\n",
              "      <td>2015-01-09</td>\n",
              "      <td>Despesa com material de consumo para uso do es...</td>\n",
              "      <td>108,5</td>\n",
              "      <td>2001139.0</td>\n",
              "    </tr>\n",
              "  </tbody>\n",
              "</table>\n",
              "</div>\n",
              "      <button class=\"colab-df-convert\" onclick=\"convertToInteractive('df-6750a8e4-4e4f-4495-8a3f-895f322b5e63')\"\n",
              "              title=\"Convert this dataframe to an interactive table.\"\n",
              "              style=\"display:none;\">\n",
              "        \n",
              "  <svg xmlns=\"http://www.w3.org/2000/svg\" height=\"24px\"viewBox=\"0 0 24 24\"\n",
              "       width=\"24px\">\n",
              "    <path d=\"M0 0h24v24H0V0z\" fill=\"none\"/>\n",
              "    <path d=\"M18.56 5.44l.94 2.06.94-2.06 2.06-.94-2.06-.94-.94-2.06-.94 2.06-2.06.94zm-11 1L8.5 8.5l.94-2.06 2.06-.94-2.06-.94L8.5 2.5l-.94 2.06-2.06.94zm10 10l.94 2.06.94-2.06 2.06-.94-2.06-.94-.94-2.06-.94 2.06-2.06.94z\"/><path d=\"M17.41 7.96l-1.37-1.37c-.4-.4-.92-.59-1.43-.59-.52 0-1.04.2-1.43.59L10.3 9.45l-7.72 7.72c-.78.78-.78 2.05 0 2.83L4 21.41c.39.39.9.59 1.41.59.51 0 1.02-.2 1.41-.59l7.78-7.78 2.81-2.81c.8-.78.8-2.07 0-2.86zM5.41 20L4 18.59l7.72-7.72 1.47 1.35L5.41 20z\"/>\n",
              "  </svg>\n",
              "      </button>\n",
              "      \n",
              "  <style>\n",
              "    .colab-df-container {\n",
              "      display:flex;\n",
              "      flex-wrap:wrap;\n",
              "      gap: 12px;\n",
              "    }\n",
              "\n",
              "    .colab-df-convert {\n",
              "      background-color: #E8F0FE;\n",
              "      border: none;\n",
              "      border-radius: 50%;\n",
              "      cursor: pointer;\n",
              "      display: none;\n",
              "      fill: #1967D2;\n",
              "      height: 32px;\n",
              "      padding: 0 0 0 0;\n",
              "      width: 32px;\n",
              "    }\n",
              "\n",
              "    .colab-df-convert:hover {\n",
              "      background-color: #E2EBFA;\n",
              "      box-shadow: 0px 1px 2px rgba(60, 64, 67, 0.3), 0px 1px 3px 1px rgba(60, 64, 67, 0.15);\n",
              "      fill: #174EA6;\n",
              "    }\n",
              "\n",
              "    [theme=dark] .colab-df-convert {\n",
              "      background-color: #3B4455;\n",
              "      fill: #D2E3FC;\n",
              "    }\n",
              "\n",
              "    [theme=dark] .colab-df-convert:hover {\n",
              "      background-color: #434B5C;\n",
              "      box-shadow: 0px 1px 3px 1px rgba(0, 0, 0, 0.15);\n",
              "      filter: drop-shadow(0px 1px 2px rgba(0, 0, 0, 0.3));\n",
              "      fill: #FFFFFF;\n",
              "    }\n",
              "  </style>\n",
              "\n",
              "      <script>\n",
              "        const buttonEl =\n",
              "          document.querySelector('#df-6750a8e4-4e4f-4495-8a3f-895f322b5e63 button.colab-df-convert');\n",
              "        buttonEl.style.display =\n",
              "          google.colab.kernel.accessAllowed ? 'block' : 'none';\n",
              "\n",
              "        async function convertToInteractive(key) {\n",
              "          const element = document.querySelector('#df-6750a8e4-4e4f-4495-8a3f-895f322b5e63');\n",
              "          const dataTable =\n",
              "            await google.colab.kernel.invokeFunction('convertToInteractive',\n",
              "                                                     [key], {});\n",
              "          if (!dataTable) return;\n",
              "\n",
              "          const docLinkHtml = 'Like what you see? Visit the ' +\n",
              "            '<a target=\"_blank\" href=https://colab.research.google.com/notebooks/data_table.ipynb>data table notebook</a>'\n",
              "            + ' to learn more about interactive tables.';\n",
              "          element.innerHTML = '';\n",
              "          dataTable['output_type'] = 'display_data';\n",
              "          await google.colab.output.renderOutput(dataTable, element);\n",
              "          const docLink = document.createElement('div');\n",
              "          docLink.innerHTML = docLinkHtml;\n",
              "          element.appendChild(docLink);\n",
              "        }\n",
              "      </script>\n",
              "    </div>\n",
              "  </div>\n",
              "  "
            ]
          },
          "metadata": {},
          "execution_count": 2
        }
      ],
      "source": [
        "df =  pd.read_csv('https://raw.githubusercontent.com/Siri2191/Projeto-Senadores/main/df_reembolso_senado_atual.csv')\n",
        "df.drop(columns=[df.columns[0]], axis=0, inplace=True)\n",
        "df.head()"
      ]
    },
    {
      "cell_type": "code",
      "source": [
        "len(df)"
      ],
      "metadata": {
        "colab": {
          "base_uri": "https://localhost:8080/"
        },
        "id": "AwS7mEaj-x0c",
        "outputId": "41ded96d-e53d-405c-d031-575ae7629cf7"
      },
      "execution_count": 3,
      "outputs": [
        {
          "output_type": "execute_result",
          "data": {
            "text/plain": [
              "82010"
            ]
          },
          "metadata": {},
          "execution_count": 3
        }
      ]
    },
    {
      "cell_type": "markdown",
      "source": [
        "# Verificando valores nulos\n",
        "\n",
        "---"
      ],
      "metadata": {
        "id": "gUrRUK0x-mCX"
      }
    },
    {
      "cell_type": "code",
      "source": [
        "df.isnull().sum()"
      ],
      "metadata": {
        "colab": {
          "base_uri": "https://localhost:8080/"
        },
        "id": "Ru2zAv4k-cl8",
        "outputId": "6e524892-0199-4ad4-a4e1-7d8bccc61205"
      },
      "execution_count": 4,
      "outputs": [
        {
          "output_type": "execute_result",
          "data": {
            "text/plain": [
              "NOME_PARLAMENTAR        0\n",
              "PARTIDO                 0\n",
              "UF                      0\n",
              "CHEFE_GAB               0\n",
              "SEXO                    0\n",
              "IDADE                   0\n",
              "MANDATO_INICIO          0\n",
              "MANDATO_FINAL           0\n",
              "TEMPO_MANDATO           0\n",
              "PCT_DE_MANDATO          0\n",
              "TIPO_DESPESA            8\n",
              "CNPJ_CPF                8\n",
              "FORNECEDOR              8\n",
              "DOCUMENTO            4260\n",
              "DATA                   19\n",
              "DETALHAMENTO            8\n",
              "VALOR_REEMBOLSADO       8\n",
              "COD_DOCUMENTO           8\n",
              "dtype: int64"
            ]
          },
          "metadata": {},
          "execution_count": 4
        }
      ]
    },
    {
      "cell_type": "markdown",
      "source": [
        "# Verificando tipos\n",
        "\n",
        "---"
      ],
      "metadata": {
        "id": "N6hwXw4u6YOC"
      }
    },
    {
      "cell_type": "code",
      "source": [
        "df.dtypes"
      ],
      "metadata": {
        "colab": {
          "base_uri": "https://localhost:8080/"
        },
        "id": "FZbVDvyr6Xut",
        "outputId": "8c680d50-2f2f-4d02-8598-40a815866bc3"
      },
      "execution_count": 13,
      "outputs": [
        {
          "output_type": "execute_result",
          "data": {
            "text/plain": [
              "NOME_PARLAMENTAR      object\n",
              "PARTIDO               object\n",
              "UF                    object\n",
              "CHEFE_GAB             object\n",
              "SEXO                  object\n",
              "IDADE                  int64\n",
              "MANDATO_INICIO         int64\n",
              "MANDATO_FINAL          int64\n",
              "TEMPO_MANDATO          int64\n",
              "PCT_DE_MANDATO       float64\n",
              "TIPO_DESPESA          object\n",
              "CNPJ_CPF              object\n",
              "FORNECEDOR            object\n",
              "DOCUMENTO             object\n",
              "DATA                  object\n",
              "DETALHAMENTO          object\n",
              "VALOR_REEMBOLSADO     object\n",
              "COD_DOCUMENTO        float64\n",
              "dtype: object"
            ]
          },
          "metadata": {},
          "execution_count": 13
        }
      ]
    },
    {
      "cell_type": "code",
      "source": [
        "# transformando a data em datetime\n",
        "\n",
        "df['DATA'] = pd.to_datetime(df['DATA'],format='%d/%m/%Y',errors = 'coerce')\n",
        "\n",
        "df.dtypes"
      ],
      "metadata": {
        "colab": {
          "base_uri": "https://localhost:8080/"
        },
        "id": "8Ph5NtNn5Vo1",
        "outputId": "022bd1ed-eabb-4d6a-b31e-250c6acf4aee"
      },
      "execution_count": 15,
      "outputs": [
        {
          "output_type": "execute_result",
          "data": {
            "text/plain": [
              "NOME_PARLAMENTAR             object\n",
              "PARTIDO                      object\n",
              "UF                           object\n",
              "CHEFE_GAB                    object\n",
              "SEXO                         object\n",
              "IDADE                         int64\n",
              "MANDATO_INICIO                int64\n",
              "MANDATO_FINAL                 int64\n",
              "TEMPO_MANDATO                 int64\n",
              "PCT_DE_MANDATO              float64\n",
              "TIPO_DESPESA                 object\n",
              "CNPJ_CPF                     object\n",
              "FORNECEDOR                   object\n",
              "DOCUMENTO                    object\n",
              "DATA                 datetime64[ns]\n",
              "DETALHAMENTO                 object\n",
              "VALOR_REEMBOLSADO            object\n",
              "COD_DOCUMENTO               float64\n",
              "dtype: object"
            ]
          },
          "metadata": {},
          "execution_count": 15
        }
      ]
    },
    {
      "cell_type": "code",
      "source": [],
      "metadata": {
        "id": "IoYZ7nBG-siN"
      },
      "execution_count": null,
      "outputs": []
    }
  ]
}