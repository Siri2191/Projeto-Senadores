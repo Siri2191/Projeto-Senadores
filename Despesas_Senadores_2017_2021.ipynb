{
  "nbformat": 4,
  "nbformat_minor": 0,
  "metadata": {
    "colab": {
      "provenance": [],
      "collapsed_sections": [],
      "authorship_tag": "ABX9TyPqqNUDxhuJBDT572+CRdQp",
      "include_colab_link": true
    },
    "kernelspec": {
      "name": "python3",
      "display_name": "Python 3"
    },
    "language_info": {
      "name": "python"
    }
  },
  "cells": [
    {
      "cell_type": "markdown",
      "metadata": {
        "id": "view-in-github",
        "colab_type": "text"
      },
      "source": [
        "<a href=\"https://colab.research.google.com/github/Siri2191/Projeto-Senadores/blob/main/Despesas_Senadores_2017_2021.ipynb\" target=\"_parent\"><img src=\"https://colab.research.google.com/assets/colab-badge.svg\" alt=\"Open In Colab\"/></a>"
      ]
    },
    {
      "cell_type": "markdown",
      "source": [
        "<h1>Contexto:</h1>\n",
        "\n",
        "---\n",
        "\n",
        "Trata-se de uma analise exploratória sobre as despesas dos senadores. Os dados foram retirados do portal da transparencia da [Caesp](https://www12.senado.leg.br/dados-abertos/conjuntos?portal=Administrativo&grupo=orcamento-do-senado). \n",
        "\n"
      ],
      "metadata": {
        "id": "bUXH3WDsyoQt"
      }
    },
    {
      "cell_type": "markdown",
      "source": [
        "# Importando Bicliotecas:\n",
        "\n",
        "---\n",
        "\n"
      ],
      "metadata": {
        "id": "vT-YH4ojznMV"
      }
    },
    {
      "cell_type": "code",
      "execution_count": null,
      "metadata": {
        "id": "EnUK5x1myih5"
      },
      "outputs": [],
      "source": [
        "import pandas as pd\n",
        "import numpy as np\n",
        "import matplotlib.pyplot as plt\n"
      ]
    },
    {
      "cell_type": "markdown",
      "source": [
        "# Carregando os dados\n",
        "---"
      ],
      "metadata": {
        "id": "mN5S2duHz2Y1"
      }
    },
    {
      "cell_type": "code",
      "source": [
        "for i in range(17,22):\n",
        "  df = pd.read_csv('https://www.senado.gov.br/transparencia/LAI/verba/despesa_ceaps_20{}.csv'.format(i), encoding='1252', sep=';', header=1)\n",
        "  globals()['df_%s' % i] = df"
      ],
      "metadata": {
        "id": "gS7JCNYGz07w"
      },
      "execution_count": null,
      "outputs": []
    },
    {
      "cell_type": "code",
      "source": [
        "df_17.head()"
      ],
      "metadata": {
        "colab": {
          "base_uri": "https://localhost:8080/",
          "height": 337
        },
        "id": "71Gy2wV90Eh_",
        "outputId": "b1534ed7-640a-43bf-8c34-eb52cf31044c"
      },
      "execution_count": null,
      "outputs": [
        {
          "output_type": "execute_result",
          "data": {
            "text/plain": [
              "    ANO  MES       SENADOR                                       TIPO_DESPESA  \\\n",
              "0  2017    1  ACIR GURGACZ  Aluguel de imóveis para escritório político, c...   \n",
              "1  2017    1  ACIR GURGACZ  Aluguel de imóveis para escritório político, c...   \n",
              "2  2017    1  ACIR GURGACZ  Aluguel de imóveis para escritório político, c...   \n",
              "3  2017    1  ACIR GURGACZ  Passagens aéreas, aquáticas e terrestres nacio...   \n",
              "4  2017    1  ACIR GURGACZ  Passagens aéreas, aquáticas e terrestres nacio...   \n",
              "\n",
              "             CNPJ_CPF                                FORNECEDOR  DOCUMENTO  \\\n",
              "0  05.914.650/0001-66                                  ENERGISA  000034079   \n",
              "1      004.948.028-63             GILBERTO PISELO DO NASCIMENTO     001/17   \n",
              "2  05.423.963/0001-11                             OI MÓVEL S.A.  744526352   \n",
              "3  13.419.034/0001-67                         e-Destinos.com.br     2LLTII   \n",
              "4  63.764.211/0001-10  TRANSCONTINENTAL AGÊNCIA DE VIAGENS LTDA     2QXSBC   \n",
              "\n",
              "         DATA                                       DETALHAMENTO  \\\n",
              "0  18/01/2017  Despesa com pagamento de energia elétrica para...   \n",
              "1  17/01/2017  Despesa com aluguel de imóvel para uso do escr...   \n",
              "2  18/01/2017  Despesa com pagamento de telefone celular para...   \n",
              "3  23/01/2017  Companhia Aérea: LATAM, Localizador: 2LLTII. P...   \n",
              "4  24/01/2017  Companhia Aérea: LATAM, Localizador: 2QXSBC. P...   \n",
              "\n",
              "  VALOR_REEMBOLSADO  COD_DOCUMENTO  \n",
              "0                97        2060286  \n",
              "1              6000        2057638  \n",
              "2            418,04        2060285  \n",
              "3           1958,95        2060289  \n",
              "4           1178,67        2057639  "
            ],
            "text/html": [
              "\n",
              "  <div id=\"df-a3c9ef3e-6178-4342-a241-fcebcb8a3b06\">\n",
              "    <div class=\"colab-df-container\">\n",
              "      <div>\n",
              "<style scoped>\n",
              "    .dataframe tbody tr th:only-of-type {\n",
              "        vertical-align: middle;\n",
              "    }\n",
              "\n",
              "    .dataframe tbody tr th {\n",
              "        vertical-align: top;\n",
              "    }\n",
              "\n",
              "    .dataframe thead th {\n",
              "        text-align: right;\n",
              "    }\n",
              "</style>\n",
              "<table border=\"1\" class=\"dataframe\">\n",
              "  <thead>\n",
              "    <tr style=\"text-align: right;\">\n",
              "      <th></th>\n",
              "      <th>ANO</th>\n",
              "      <th>MES</th>\n",
              "      <th>SENADOR</th>\n",
              "      <th>TIPO_DESPESA</th>\n",
              "      <th>CNPJ_CPF</th>\n",
              "      <th>FORNECEDOR</th>\n",
              "      <th>DOCUMENTO</th>\n",
              "      <th>DATA</th>\n",
              "      <th>DETALHAMENTO</th>\n",
              "      <th>VALOR_REEMBOLSADO</th>\n",
              "      <th>COD_DOCUMENTO</th>\n",
              "    </tr>\n",
              "  </thead>\n",
              "  <tbody>\n",
              "    <tr>\n",
              "      <th>0</th>\n",
              "      <td>2017</td>\n",
              "      <td>1</td>\n",
              "      <td>ACIR GURGACZ</td>\n",
              "      <td>Aluguel de imóveis para escritório político, c...</td>\n",
              "      <td>05.914.650/0001-66</td>\n",
              "      <td>ENERGISA</td>\n",
              "      <td>000034079</td>\n",
              "      <td>18/01/2017</td>\n",
              "      <td>Despesa com pagamento de energia elétrica para...</td>\n",
              "      <td>97</td>\n",
              "      <td>2060286</td>\n",
              "    </tr>\n",
              "    <tr>\n",
              "      <th>1</th>\n",
              "      <td>2017</td>\n",
              "      <td>1</td>\n",
              "      <td>ACIR GURGACZ</td>\n",
              "      <td>Aluguel de imóveis para escritório político, c...</td>\n",
              "      <td>004.948.028-63</td>\n",
              "      <td>GILBERTO PISELO DO NASCIMENTO</td>\n",
              "      <td>001/17</td>\n",
              "      <td>17/01/2017</td>\n",
              "      <td>Despesa com aluguel de imóvel para uso do escr...</td>\n",
              "      <td>6000</td>\n",
              "      <td>2057638</td>\n",
              "    </tr>\n",
              "    <tr>\n",
              "      <th>2</th>\n",
              "      <td>2017</td>\n",
              "      <td>1</td>\n",
              "      <td>ACIR GURGACZ</td>\n",
              "      <td>Aluguel de imóveis para escritório político, c...</td>\n",
              "      <td>05.423.963/0001-11</td>\n",
              "      <td>OI MÓVEL S.A.</td>\n",
              "      <td>744526352</td>\n",
              "      <td>18/01/2017</td>\n",
              "      <td>Despesa com pagamento de telefone celular para...</td>\n",
              "      <td>418,04</td>\n",
              "      <td>2060285</td>\n",
              "    </tr>\n",
              "    <tr>\n",
              "      <th>3</th>\n",
              "      <td>2017</td>\n",
              "      <td>1</td>\n",
              "      <td>ACIR GURGACZ</td>\n",
              "      <td>Passagens aéreas, aquáticas e terrestres nacio...</td>\n",
              "      <td>13.419.034/0001-67</td>\n",
              "      <td>e-Destinos.com.br</td>\n",
              "      <td>2LLTII</td>\n",
              "      <td>23/01/2017</td>\n",
              "      <td>Companhia Aérea: LATAM, Localizador: 2LLTII. P...</td>\n",
              "      <td>1958,95</td>\n",
              "      <td>2060289</td>\n",
              "    </tr>\n",
              "    <tr>\n",
              "      <th>4</th>\n",
              "      <td>2017</td>\n",
              "      <td>1</td>\n",
              "      <td>ACIR GURGACZ</td>\n",
              "      <td>Passagens aéreas, aquáticas e terrestres nacio...</td>\n",
              "      <td>63.764.211/0001-10</td>\n",
              "      <td>TRANSCONTINENTAL AGÊNCIA DE VIAGENS LTDA</td>\n",
              "      <td>2QXSBC</td>\n",
              "      <td>24/01/2017</td>\n",
              "      <td>Companhia Aérea: LATAM, Localizador: 2QXSBC. P...</td>\n",
              "      <td>1178,67</td>\n",
              "      <td>2057639</td>\n",
              "    </tr>\n",
              "  </tbody>\n",
              "</table>\n",
              "</div>\n",
              "      <button class=\"colab-df-convert\" onclick=\"convertToInteractive('df-a3c9ef3e-6178-4342-a241-fcebcb8a3b06')\"\n",
              "              title=\"Convert this dataframe to an interactive table.\"\n",
              "              style=\"display:none;\">\n",
              "        \n",
              "  <svg xmlns=\"http://www.w3.org/2000/svg\" height=\"24px\"viewBox=\"0 0 24 24\"\n",
              "       width=\"24px\">\n",
              "    <path d=\"M0 0h24v24H0V0z\" fill=\"none\"/>\n",
              "    <path d=\"M18.56 5.44l.94 2.06.94-2.06 2.06-.94-2.06-.94-.94-2.06-.94 2.06-2.06.94zm-11 1L8.5 8.5l.94-2.06 2.06-.94-2.06-.94L8.5 2.5l-.94 2.06-2.06.94zm10 10l.94 2.06.94-2.06 2.06-.94-2.06-.94-.94-2.06-.94 2.06-2.06.94z\"/><path d=\"M17.41 7.96l-1.37-1.37c-.4-.4-.92-.59-1.43-.59-.52 0-1.04.2-1.43.59L10.3 9.45l-7.72 7.72c-.78.78-.78 2.05 0 2.83L4 21.41c.39.39.9.59 1.41.59.51 0 1.02-.2 1.41-.59l7.78-7.78 2.81-2.81c.8-.78.8-2.07 0-2.86zM5.41 20L4 18.59l7.72-7.72 1.47 1.35L5.41 20z\"/>\n",
              "  </svg>\n",
              "      </button>\n",
              "      \n",
              "  <style>\n",
              "    .colab-df-container {\n",
              "      display:flex;\n",
              "      flex-wrap:wrap;\n",
              "      gap: 12px;\n",
              "    }\n",
              "\n",
              "    .colab-df-convert {\n",
              "      background-color: #E8F0FE;\n",
              "      border: none;\n",
              "      border-radius: 50%;\n",
              "      cursor: pointer;\n",
              "      display: none;\n",
              "      fill: #1967D2;\n",
              "      height: 32px;\n",
              "      padding: 0 0 0 0;\n",
              "      width: 32px;\n",
              "    }\n",
              "\n",
              "    .colab-df-convert:hover {\n",
              "      background-color: #E2EBFA;\n",
              "      box-shadow: 0px 1px 2px rgba(60, 64, 67, 0.3), 0px 1px 3px 1px rgba(60, 64, 67, 0.15);\n",
              "      fill: #174EA6;\n",
              "    }\n",
              "\n",
              "    [theme=dark] .colab-df-convert {\n",
              "      background-color: #3B4455;\n",
              "      fill: #D2E3FC;\n",
              "    }\n",
              "\n",
              "    [theme=dark] .colab-df-convert:hover {\n",
              "      background-color: #434B5C;\n",
              "      box-shadow: 0px 1px 3px 1px rgba(0, 0, 0, 0.15);\n",
              "      filter: drop-shadow(0px 1px 2px rgba(0, 0, 0, 0.3));\n",
              "      fill: #FFFFFF;\n",
              "    }\n",
              "  </style>\n",
              "\n",
              "      <script>\n",
              "        const buttonEl =\n",
              "          document.querySelector('#df-a3c9ef3e-6178-4342-a241-fcebcb8a3b06 button.colab-df-convert');\n",
              "        buttonEl.style.display =\n",
              "          google.colab.kernel.accessAllowed ? 'block' : 'none';\n",
              "\n",
              "        async function convertToInteractive(key) {\n",
              "          const element = document.querySelector('#df-a3c9ef3e-6178-4342-a241-fcebcb8a3b06');\n",
              "          const dataTable =\n",
              "            await google.colab.kernel.invokeFunction('convertToInteractive',\n",
              "                                                     [key], {});\n",
              "          if (!dataTable) return;\n",
              "\n",
              "          const docLinkHtml = 'Like what you see? Visit the ' +\n",
              "            '<a target=\"_blank\" href=https://colab.research.google.com/notebooks/data_table.ipynb>data table notebook</a>'\n",
              "            + ' to learn more about interactive tables.';\n",
              "          element.innerHTML = '';\n",
              "          dataTable['output_type'] = 'display_data';\n",
              "          await google.colab.output.renderOutput(dataTable, element);\n",
              "          const docLink = document.createElement('div');\n",
              "          docLink.innerHTML = docLinkHtml;\n",
              "          element.appendChild(docLink);\n",
              "        }\n",
              "      </script>\n",
              "    </div>\n",
              "  </div>\n",
              "  "
            ]
          },
          "metadata": {},
          "execution_count": 4
        }
      ]
    },
    {
      "cell_type": "markdown",
      "source": [
        "# Juntando os df's em um só\n",
        "--- "
      ],
      "metadata": {
        "id": "dNUCDNJO6TwJ"
      }
    },
    {
      "cell_type": "code",
      "source": [
        "df = pd.concat([df_17,df_18,df_19,df_20,df_21], join ='outer', ignore_index=True) "
      ],
      "metadata": {
        "id": "rCmPpUO16KVa"
      },
      "execution_count": null,
      "outputs": []
    },
    {
      "cell_type": "code",
      "source": [
        "\n",
        "df.info()"
      ],
      "metadata": {
        "colab": {
          "base_uri": "https://localhost:8080/"
        },
        "id": "4publlIX7A5C",
        "outputId": "f249d6cd-22f0-4982-93b3-2b978df10ef9"
      },
      "execution_count": null,
      "outputs": [
        {
          "output_type": "stream",
          "name": "stdout",
          "text": [
            "<class 'pandas.core.frame.DataFrame'>\n",
            "RangeIndex: 104066 entries, 0 to 104065\n",
            "Data columns (total 11 columns):\n",
            " #   Column             Non-Null Count   Dtype \n",
            "---  ------             --------------   ----- \n",
            " 0   ANO                104066 non-null  int64 \n",
            " 1   MES                104066 non-null  int64 \n",
            " 2   SENADOR            104066 non-null  object\n",
            " 3   TIPO_DESPESA       104066 non-null  object\n",
            " 4   CNPJ_CPF           104066 non-null  object\n",
            " 5   FORNECEDOR         104066 non-null  object\n",
            " 6   DOCUMENTO          99702 non-null   object\n",
            " 7   DATA               104066 non-null  object\n",
            " 8   DETALHAMENTO       69269 non-null   object\n",
            " 9   VALOR_REEMBOLSADO  104066 non-null  object\n",
            " 10  COD_DOCUMENTO      104066 non-null  int64 \n",
            "dtypes: int64(3), object(8)\n",
            "memory usage: 8.7+ MB\n"
          ]
        }
      ]
    },
    {
      "cell_type": "markdown",
      "source": [
        "# Analisando valores vázios\n",
        "---"
      ],
      "metadata": {
        "id": "7syYxmhw7PKO"
      }
    },
    {
      "cell_type": "code",
      "source": [
        "\n",
        "df.isnull().sum()"
      ],
      "metadata": {
        "colab": {
          "base_uri": "https://localhost:8080/"
        },
        "id": "PtG1umAN7HB4",
        "outputId": "4ff12641-f05d-4a1e-f7c9-6fff1817d71c"
      },
      "execution_count": null,
      "outputs": [
        {
          "output_type": "execute_result",
          "data": {
            "text/plain": [
              "ANO                      0\n",
              "MES                      0\n",
              "SENADOR                  0\n",
              "TIPO_DESPESA             0\n",
              "CNPJ_CPF                 0\n",
              "FORNECEDOR               0\n",
              "DOCUMENTO             4364\n",
              "DATA                     0\n",
              "DETALHAMENTO         34797\n",
              "VALOR_REEMBOLSADO        0\n",
              "COD_DOCUMENTO            0\n",
              "dtype: int64"
            ]
          },
          "metadata": {},
          "execution_count": 7
        }
      ]
    },
    {
      "cell_type": "code",
      "source": [
        "df.isnull().sum()['DOCUMENTO']/len(df)*100"
      ],
      "metadata": {
        "colab": {
          "base_uri": "https://localhost:8080/"
        },
        "id": "WHsHa2xh87bm",
        "outputId": "ab832c4d-8bf7-486a-c19d-1da0e990dc05"
      },
      "execution_count": null,
      "outputs": [
        {
          "output_type": "execute_result",
          "data": {
            "text/plain": [
              "4.193492591240174"
            ]
          },
          "metadata": {},
          "execution_count": 8
        }
      ]
    },
    {
      "cell_type": "markdown",
      "source": [
        "* A variavel documento representa o número do documento que o senador apresenta como comprovante para receber o reembolso. Existem cerca de 4364 documentos não apresentados entre 17 e 21, o que representa 4,19% de todos os dados. \n",
        "\n",
        "* Estes valores são candidatos a uma analise mais cuidadosa, que será feita nesta [aqui]()"
      ],
      "metadata": {
        "id": "LtlP4DfD7jch"
      }
    },
    {
      "cell_type": "markdown",
      "source": [
        "# Observação e transformação dos tipos das variáveis\n",
        "\n",
        "---\n"
      ],
      "metadata": {
        "id": "LPgwgumh_qF4"
      }
    },
    {
      "cell_type": "code",
      "source": [
        "df.dtypes"
      ],
      "metadata": {
        "colab": {
          "base_uri": "https://localhost:8080/"
        },
        "id": "a9mEesbL7YIy",
        "outputId": "622f6d22-0503-4d90-f53f-dab996c61365"
      },
      "execution_count": null,
      "outputs": [
        {
          "output_type": "execute_result",
          "data": {
            "text/plain": [
              "ANO                   int64\n",
              "MES                   int64\n",
              "SENADOR              object\n",
              "TIPO_DESPESA         object\n",
              "CNPJ_CPF             object\n",
              "FORNECEDOR           object\n",
              "DOCUMENTO            object\n",
              "DATA                 object\n",
              "DETALHAMENTO         object\n",
              "VALOR_REEMBOLSADO    object\n",
              "COD_DOCUMENTO         int64\n",
              "dtype: object"
            ]
          },
          "metadata": {},
          "execution_count": 9
        }
      ]
    },
    {
      "cell_type": "code",
      "source": [
        "df['DATA']"
      ],
      "metadata": {
        "colab": {
          "base_uri": "https://localhost:8080/"
        },
        "id": "JYOsi5-WAwdw",
        "outputId": "741c9b6c-774f-4ff1-d44e-3da1b51a1439"
      },
      "execution_count": null,
      "outputs": [
        {
          "output_type": "execute_result",
          "data": {
            "text/plain": [
              "0         18/01/2017\n",
              "1         17/01/2017\n",
              "2         18/01/2017\n",
              "3         23/01/2017\n",
              "4         24/01/2017\n",
              "             ...    \n",
              "104061    01/12/2021\n",
              "104062    15/12/2021\n",
              "104063    17/12/2021\n",
              "104064    27/12/2021\n",
              "104065    29/12/2021\n",
              "Name: DATA, Length: 104066, dtype: object"
            ]
          },
          "metadata": {},
          "execution_count": 10
        }
      ]
    },
    {
      "cell_type": "code",
      "source": [
        "df['DATA'] = pd.to_datetime(df['DATA'],format='%d/%m/%Y',errors = 'coerce')  # transformando data em datetime"
      ],
      "metadata": {
        "id": "0PvScr4e92So"
      },
      "execution_count": null,
      "outputs": []
    },
    {
      "cell_type": "code",
      "source": [
        "df.DATA"
      ],
      "metadata": {
        "colab": {
          "base_uri": "https://localhost:8080/"
        },
        "id": "sPbWDCMyMPEV",
        "outputId": "10ddf9d1-142a-463c-dd1f-45b5074e072e"
      },
      "execution_count": null,
      "outputs": [
        {
          "output_type": "execute_result",
          "data": {
            "text/plain": [
              "0        2017-01-18\n",
              "1        2017-01-17\n",
              "2        2017-01-18\n",
              "3        2017-01-23\n",
              "4        2017-01-24\n",
              "            ...    \n",
              "104061   2021-12-01\n",
              "104062   2021-12-15\n",
              "104063   2021-12-17\n",
              "104064   2021-12-27\n",
              "104065   2021-12-29\n",
              "Name: DATA, Length: 104066, dtype: datetime64[ns]"
            ]
          },
          "metadata": {},
          "execution_count": 12
        }
      ]
    },
    {
      "cell_type": "code",
      "source": [
        "df.dtypes"
      ],
      "metadata": {
        "colab": {
          "base_uri": "https://localhost:8080/"
        },
        "id": "KufLNrxQAUCE",
        "outputId": "5d71e416-44c9-4f6f-b389-c0dbf92992db"
      },
      "execution_count": null,
      "outputs": [
        {
          "output_type": "execute_result",
          "data": {
            "text/plain": [
              "ANO                           int64\n",
              "MES                           int64\n",
              "SENADOR                      object\n",
              "TIPO_DESPESA                 object\n",
              "CNPJ_CPF                     object\n",
              "FORNECEDOR                   object\n",
              "DOCUMENTO                    object\n",
              "DATA                 datetime64[ns]\n",
              "DETALHAMENTO                 object\n",
              "VALOR_REEMBOLSADO            object\n",
              "COD_DOCUMENTO                 int64\n",
              "dtype: object"
            ]
          },
          "metadata": {},
          "execution_count": 13
        }
      ]
    },
    {
      "cell_type": "code",
      "source": [
        "df['DATA'].min()"
      ],
      "metadata": {
        "colab": {
          "base_uri": "https://localhost:8080/"
        },
        "id": "ucH8eofEAXAE",
        "outputId": "d16a77f4-ea04-4bd8-b331-37011b1ee1c3"
      },
      "execution_count": null,
      "outputs": [
        {
          "output_type": "execute_result",
          "data": {
            "text/plain": [
              "Timestamp('1957-12-19 00:00:00')"
            ]
          },
          "metadata": {},
          "execution_count": 14
        }
      ]
    },
    {
      "cell_type": "code",
      "source": [
        "df['DATA'].max()"
      ],
      "metadata": {
        "colab": {
          "base_uri": "https://localhost:8080/"
        },
        "id": "XzmzNOZmAdn0",
        "outputId": "d43daee6-0794-45a6-fe45-832a1619bb0e"
      },
      "execution_count": null,
      "outputs": [
        {
          "output_type": "execute_result",
          "data": {
            "text/plain": [
              "Timestamp('2107-08-29 00:00:00')"
            ]
          },
          "metadata": {},
          "execution_count": 15
        }
      ]
    },
    {
      "cell_type": "markdown",
      "source": [
        "* Aparentemente existem dados incoerentes. Como não há como saber a data real do pedido de reembolso, estes valores serão retirados, só mantendo a faixa entre os anos de 2017 e 2021. "
      ],
      "metadata": {
        "id": "Hbu20q0DBDTa"
      }
    },
    {
      "cell_type": "code",
      "source": [
        "'''\n",
        " Dropando os dados datados antes dde 2017 e depois de 2021\n",
        "'''\n",
        "\n",
        "df.drop(df.loc[df.DATA.dt.year<2017].index, inplace=True)\n",
        "df.drop(df.loc[df.DATA.dt.year>2021].index, inplace=True) "
      ],
      "metadata": {
        "id": "9hcGugMdMePI"
      },
      "execution_count": null,
      "outputs": []
    },
    {
      "cell_type": "code",
      "source": [
        "df['DATA'].min()"
      ],
      "metadata": {
        "colab": {
          "base_uri": "https://localhost:8080/"
        },
        "id": "njd56Ru7eFUR",
        "outputId": "ce289d1b-575b-4923-f307-52d4d081149d"
      },
      "execution_count": null,
      "outputs": [
        {
          "output_type": "execute_result",
          "data": {
            "text/plain": [
              "Timestamp('2017-01-01 00:00:00')"
            ]
          },
          "metadata": {},
          "execution_count": 17
        }
      ]
    },
    {
      "cell_type": "code",
      "source": [
        "df['DATA'].max()"
      ],
      "metadata": {
        "colab": {
          "base_uri": "https://localhost:8080/"
        },
        "id": "q60IDugWeotJ",
        "outputId": "a9b3de0a-bc40-41df-e5ca-9e35acc123e9"
      },
      "execution_count": null,
      "outputs": [
        {
          "output_type": "execute_result",
          "data": {
            "text/plain": [
              "Timestamp('2021-12-31 00:00:00')"
            ]
          },
          "metadata": {},
          "execution_count": 18
        }
      ]
    },
    {
      "cell_type": "code",
      "source": [
        "'''\n",
        "Os valores de ano e Mês já estão dentro da variavel DATA\n",
        "Por isto irei retirar essas duas variaveis\n",
        "'''\n",
        "df.drop(df[['ANO','MES']], axis=1,inplace=True)"
      ],
      "metadata": {
        "id": "u-k0iMqWerNR"
      },
      "execution_count": null,
      "outputs": []
    },
    {
      "cell_type": "code",
      "source": [
        "df['VALOR_REEMBOLSADO'] = df['VALOR_REEMBOLSADO'].str.replace(',','.')  # trocando a virgula por ponto\n",
        "df['VALOR_REEMBOLSADO'] = df['VALOR_REEMBOLSADO'].astype(float) # convertendo em float"
      ],
      "metadata": {
        "id": "FwRpOMlpvjTT"
      },
      "execution_count": null,
      "outputs": []
    },
    {
      "cell_type": "code",
      "source": [
        "df.dtypes"
      ],
      "metadata": {
        "colab": {
          "base_uri": "https://localhost:8080/"
        },
        "id": "JmZ3w82Uwdin",
        "outputId": "4f7ce43e-225d-4a9c-aa95-4dfdbf8e0020"
      },
      "execution_count": null,
      "outputs": [
        {
          "output_type": "execute_result",
          "data": {
            "text/plain": [
              "SENADOR                      object\n",
              "TIPO_DESPESA                 object\n",
              "CNPJ_CPF                     object\n",
              "FORNECEDOR                   object\n",
              "DOCUMENTO                    object\n",
              "DATA                 datetime64[ns]\n",
              "DETALHAMENTO                 object\n",
              "VALOR_REEMBOLSADO           float64\n",
              "COD_DOCUMENTO                 int64\n",
              "dtype: object"
            ]
          },
          "metadata": {},
          "execution_count": 21
        }
      ]
    },
    {
      "cell_type": "code",
      "source": [
        "df.head()"
      ],
      "metadata": {
        "colab": {
          "base_uri": "https://localhost:8080/",
          "height": 250
        },
        "id": "khAYYxhgfMC5",
        "outputId": "9dc1333f-c3e2-4e20-e625-f36cdb426964"
      },
      "execution_count": null,
      "outputs": [
        {
          "output_type": "execute_result",
          "data": {
            "text/plain": [
              "        SENADOR                                       TIPO_DESPESA  \\\n",
              "0  ACIR GURGACZ  Aluguel de imóveis para escritório político, c...   \n",
              "1  ACIR GURGACZ  Aluguel de imóveis para escritório político, c...   \n",
              "2  ACIR GURGACZ  Aluguel de imóveis para escritório político, c...   \n",
              "3  ACIR GURGACZ  Passagens aéreas, aquáticas e terrestres nacio...   \n",
              "4  ACIR GURGACZ  Passagens aéreas, aquáticas e terrestres nacio...   \n",
              "\n",
              "             CNPJ_CPF                                FORNECEDOR  DOCUMENTO  \\\n",
              "0  05.914.650/0001-66                                  ENERGISA  000034079   \n",
              "1      004.948.028-63             GILBERTO PISELO DO NASCIMENTO     001/17   \n",
              "2  05.423.963/0001-11                             OI MÓVEL S.A.  744526352   \n",
              "3  13.419.034/0001-67                         e-Destinos.com.br     2LLTII   \n",
              "4  63.764.211/0001-10  TRANSCONTINENTAL AGÊNCIA DE VIAGENS LTDA     2QXSBC   \n",
              "\n",
              "        DATA                                       DETALHAMENTO  \\\n",
              "0 2017-01-18  Despesa com pagamento de energia elétrica para...   \n",
              "1 2017-01-17  Despesa com aluguel de imóvel para uso do escr...   \n",
              "2 2017-01-18  Despesa com pagamento de telefone celular para...   \n",
              "3 2017-01-23  Companhia Aérea: LATAM, Localizador: 2LLTII. P...   \n",
              "4 2017-01-24  Companhia Aérea: LATAM, Localizador: 2QXSBC. P...   \n",
              "\n",
              "   VALOR_REEMBOLSADO  COD_DOCUMENTO  \n",
              "0              97.00        2060286  \n",
              "1            6000.00        2057638  \n",
              "2             418.04        2060285  \n",
              "3            1958.95        2060289  \n",
              "4            1178.67        2057639  "
            ],
            "text/html": [
              "\n",
              "  <div id=\"df-02c738e7-e074-4d86-8513-293359c69d30\">\n",
              "    <div class=\"colab-df-container\">\n",
              "      <div>\n",
              "<style scoped>\n",
              "    .dataframe tbody tr th:only-of-type {\n",
              "        vertical-align: middle;\n",
              "    }\n",
              "\n",
              "    .dataframe tbody tr th {\n",
              "        vertical-align: top;\n",
              "    }\n",
              "\n",
              "    .dataframe thead th {\n",
              "        text-align: right;\n",
              "    }\n",
              "</style>\n",
              "<table border=\"1\" class=\"dataframe\">\n",
              "  <thead>\n",
              "    <tr style=\"text-align: right;\">\n",
              "      <th></th>\n",
              "      <th>SENADOR</th>\n",
              "      <th>TIPO_DESPESA</th>\n",
              "      <th>CNPJ_CPF</th>\n",
              "      <th>FORNECEDOR</th>\n",
              "      <th>DOCUMENTO</th>\n",
              "      <th>DATA</th>\n",
              "      <th>DETALHAMENTO</th>\n",
              "      <th>VALOR_REEMBOLSADO</th>\n",
              "      <th>COD_DOCUMENTO</th>\n",
              "    </tr>\n",
              "  </thead>\n",
              "  <tbody>\n",
              "    <tr>\n",
              "      <th>0</th>\n",
              "      <td>ACIR GURGACZ</td>\n",
              "      <td>Aluguel de imóveis para escritório político, c...</td>\n",
              "      <td>05.914.650/0001-66</td>\n",
              "      <td>ENERGISA</td>\n",
              "      <td>000034079</td>\n",
              "      <td>2017-01-18</td>\n",
              "      <td>Despesa com pagamento de energia elétrica para...</td>\n",
              "      <td>97.00</td>\n",
              "      <td>2060286</td>\n",
              "    </tr>\n",
              "    <tr>\n",
              "      <th>1</th>\n",
              "      <td>ACIR GURGACZ</td>\n",
              "      <td>Aluguel de imóveis para escritório político, c...</td>\n",
              "      <td>004.948.028-63</td>\n",
              "      <td>GILBERTO PISELO DO NASCIMENTO</td>\n",
              "      <td>001/17</td>\n",
              "      <td>2017-01-17</td>\n",
              "      <td>Despesa com aluguel de imóvel para uso do escr...</td>\n",
              "      <td>6000.00</td>\n",
              "      <td>2057638</td>\n",
              "    </tr>\n",
              "    <tr>\n",
              "      <th>2</th>\n",
              "      <td>ACIR GURGACZ</td>\n",
              "      <td>Aluguel de imóveis para escritório político, c...</td>\n",
              "      <td>05.423.963/0001-11</td>\n",
              "      <td>OI MÓVEL S.A.</td>\n",
              "      <td>744526352</td>\n",
              "      <td>2017-01-18</td>\n",
              "      <td>Despesa com pagamento de telefone celular para...</td>\n",
              "      <td>418.04</td>\n",
              "      <td>2060285</td>\n",
              "    </tr>\n",
              "    <tr>\n",
              "      <th>3</th>\n",
              "      <td>ACIR GURGACZ</td>\n",
              "      <td>Passagens aéreas, aquáticas e terrestres nacio...</td>\n",
              "      <td>13.419.034/0001-67</td>\n",
              "      <td>e-Destinos.com.br</td>\n",
              "      <td>2LLTII</td>\n",
              "      <td>2017-01-23</td>\n",
              "      <td>Companhia Aérea: LATAM, Localizador: 2LLTII. P...</td>\n",
              "      <td>1958.95</td>\n",
              "      <td>2060289</td>\n",
              "    </tr>\n",
              "    <tr>\n",
              "      <th>4</th>\n",
              "      <td>ACIR GURGACZ</td>\n",
              "      <td>Passagens aéreas, aquáticas e terrestres nacio...</td>\n",
              "      <td>63.764.211/0001-10</td>\n",
              "      <td>TRANSCONTINENTAL AGÊNCIA DE VIAGENS LTDA</td>\n",
              "      <td>2QXSBC</td>\n",
              "      <td>2017-01-24</td>\n",
              "      <td>Companhia Aérea: LATAM, Localizador: 2QXSBC. P...</td>\n",
              "      <td>1178.67</td>\n",
              "      <td>2057639</td>\n",
              "    </tr>\n",
              "  </tbody>\n",
              "</table>\n",
              "</div>\n",
              "      <button class=\"colab-df-convert\" onclick=\"convertToInteractive('df-02c738e7-e074-4d86-8513-293359c69d30')\"\n",
              "              title=\"Convert this dataframe to an interactive table.\"\n",
              "              style=\"display:none;\">\n",
              "        \n",
              "  <svg xmlns=\"http://www.w3.org/2000/svg\" height=\"24px\"viewBox=\"0 0 24 24\"\n",
              "       width=\"24px\">\n",
              "    <path d=\"M0 0h24v24H0V0z\" fill=\"none\"/>\n",
              "    <path d=\"M18.56 5.44l.94 2.06.94-2.06 2.06-.94-2.06-.94-.94-2.06-.94 2.06-2.06.94zm-11 1L8.5 8.5l.94-2.06 2.06-.94-2.06-.94L8.5 2.5l-.94 2.06-2.06.94zm10 10l.94 2.06.94-2.06 2.06-.94-2.06-.94-.94-2.06-.94 2.06-2.06.94z\"/><path d=\"M17.41 7.96l-1.37-1.37c-.4-.4-.92-.59-1.43-.59-.52 0-1.04.2-1.43.59L10.3 9.45l-7.72 7.72c-.78.78-.78 2.05 0 2.83L4 21.41c.39.39.9.59 1.41.59.51 0 1.02-.2 1.41-.59l7.78-7.78 2.81-2.81c.8-.78.8-2.07 0-2.86zM5.41 20L4 18.59l7.72-7.72 1.47 1.35L5.41 20z\"/>\n",
              "  </svg>\n",
              "      </button>\n",
              "      \n",
              "  <style>\n",
              "    .colab-df-container {\n",
              "      display:flex;\n",
              "      flex-wrap:wrap;\n",
              "      gap: 12px;\n",
              "    }\n",
              "\n",
              "    .colab-df-convert {\n",
              "      background-color: #E8F0FE;\n",
              "      border: none;\n",
              "      border-radius: 50%;\n",
              "      cursor: pointer;\n",
              "      display: none;\n",
              "      fill: #1967D2;\n",
              "      height: 32px;\n",
              "      padding: 0 0 0 0;\n",
              "      width: 32px;\n",
              "    }\n",
              "\n",
              "    .colab-df-convert:hover {\n",
              "      background-color: #E2EBFA;\n",
              "      box-shadow: 0px 1px 2px rgba(60, 64, 67, 0.3), 0px 1px 3px 1px rgba(60, 64, 67, 0.15);\n",
              "      fill: #174EA6;\n",
              "    }\n",
              "\n",
              "    [theme=dark] .colab-df-convert {\n",
              "      background-color: #3B4455;\n",
              "      fill: #D2E3FC;\n",
              "    }\n",
              "\n",
              "    [theme=dark] .colab-df-convert:hover {\n",
              "      background-color: #434B5C;\n",
              "      box-shadow: 0px 1px 3px 1px rgba(0, 0, 0, 0.15);\n",
              "      filter: drop-shadow(0px 1px 2px rgba(0, 0, 0, 0.3));\n",
              "      fill: #FFFFFF;\n",
              "    }\n",
              "  </style>\n",
              "\n",
              "      <script>\n",
              "        const buttonEl =\n",
              "          document.querySelector('#df-02c738e7-e074-4d86-8513-293359c69d30 button.colab-df-convert');\n",
              "        buttonEl.style.display =\n",
              "          google.colab.kernel.accessAllowed ? 'block' : 'none';\n",
              "\n",
              "        async function convertToInteractive(key) {\n",
              "          const element = document.querySelector('#df-02c738e7-e074-4d86-8513-293359c69d30');\n",
              "          const dataTable =\n",
              "            await google.colab.kernel.invokeFunction('convertToInteractive',\n",
              "                                                     [key], {});\n",
              "          if (!dataTable) return;\n",
              "\n",
              "          const docLinkHtml = 'Like what you see? Visit the ' +\n",
              "            '<a target=\"_blank\" href=https://colab.research.google.com/notebooks/data_table.ipynb>data table notebook</a>'\n",
              "            + ' to learn more about interactive tables.';\n",
              "          element.innerHTML = '';\n",
              "          dataTable['output_type'] = 'display_data';\n",
              "          await google.colab.output.renderOutput(dataTable, element);\n",
              "          const docLink = document.createElement('div');\n",
              "          docLink.innerHTML = docLinkHtml;\n",
              "          element.appendChild(docLink);\n",
              "        }\n",
              "      </script>\n",
              "    </div>\n",
              "  </div>\n",
              "  "
            ]
          },
          "metadata": {},
          "execution_count": 22
        }
      ]
    },
    {
      "cell_type": "markdown",
      "source": [
        "# Sobre os Senadores\n",
        "\n",
        "---\n",
        "\n",
        "No Brasil cada senador é eleito por duas legislaturas de 4 anos, ou seja, o mandato de um senador dura um total de 8 anos, sendo que a cada quatro se renova 2/3 e nos quatro anos seguintes, 1/3 do senado. Dando um total de 1 inteiro a cada 8 anos.\n",
        "\n",
        "Acrescentarei o tempo de mandato de cada senador para posteriomente fazer uma analise dos pedidos de reembolso em função dos periodo de mandato.\n",
        "\n",
        "Uma analise mais cuidadosa sobre o perfil do senado atual se encontra [aqui]()\n"
      ],
      "metadata": {
        "id": "uHiZaxJixDzJ"
      }
    },
    {
      "cell_type": "code",
      "source": [
        "print('O  número de senadores no df é de : {} \\n Alguns não estão mais em mandato'.format(len(df['SENADOR'].unique())))"
      ],
      "metadata": {
        "colab": {
          "base_uri": "https://localhost:8080/"
        },
        "id": "pTv0nYPUxDer",
        "outputId": "fe25a811-24ac-4e49-f99f-6ad9fbea2744"
      },
      "execution_count": null,
      "outputs": [
        {
          "output_type": "stream",
          "name": "stdout",
          "text": [
            "O  número de senadores no df é de : 160 \n",
            " Alguns não estão mais em mandato\n"
          ]
        }
      ]
    },
    {
      "cell_type": "code",
      "source": [
        "df['SENADOR'].unique()"
      ],
      "metadata": {
        "colab": {
          "base_uri": "https://localhost:8080/"
        },
        "id": "gj-s5G2G0ktp",
        "outputId": "9a856358-7e42-42de-a60e-c1803faebf18"
      },
      "execution_count": null,
      "outputs": [
        {
          "output_type": "execute_result",
          "data": {
            "text/plain": [
              "array(['ACIR GURGACZ', 'AÉCIO NEVES', 'AIRTON SANDOVAL',\n",
              "       'ALOYSIO NUNES FERREIRA', 'ALVARO DIAS', 'ANA AMÉLIA',\n",
              "       'ÂNGELA PORTELA', 'ANTONIO ANASTASIA', 'ANTÔNIO CARLOS VALADARES',\n",
              "       'ARMANDO MONTEIRO', 'ATAÍDES OLIVEIRA', 'BENEDITO DE LIRA',\n",
              "       'CÁSSIO CUNHA LIMA', 'CIDINHO SANTOS', 'CIRO NOGUEIRA',\n",
              "       'CRISTOVAM BUARQUE', 'DALIRIO BEBER', 'DÁRIO BERGER',\n",
              "       'DAVI ALCOLUMBRE', 'EDISON LOBÃO', 'EDUARDO AMORIM',\n",
              "       'EDUARDO BRAGA', 'EDUARDO LOPES', 'ELBER BATALHA', 'ELMANO FÉRRER',\n",
              "       'FÁTIMA BEZERRA', 'FERNANDO BEZERRA COELHO', 'FERNANDO COLLOR',\n",
              "       'FLEXA RIBEIRO', 'GARIBALDI ALVES FILHO', 'GLADSON CAMELI',\n",
              "       'GLEISI HOFFMANN', 'HÉLIO JOSÉ', 'HUMBERTO COSTA', 'IVO CASSOL',\n",
              "       'JADER BARBALHO', 'JOÃO ALBERTO SOUZA', 'JOÃO CAPIBERIBE',\n",
              "       'JORGE VIANA', 'JOSÉ AGRIPINO', 'JOSÉ ANÍBAL', 'JOSÉ MARANHÃO',\n",
              "       'JOSÉ MEDEIROS', 'JOSÉ PIMENTEL', 'JOSÉ SERRA', 'KÁTIA ABREU',\n",
              "       'LASIER MARTINS', 'LÍDICE DA MATA', 'LINDBERGH FARIAS',\n",
              "       'LÚCIA VÂNIA', 'MAGNO MALTA', 'MARIA DO CARMO ALVES',\n",
              "       'MARTA SUPLICY', 'OMAR AZIZ', 'OTTO ALENCAR', 'PASTOR BEL',\n",
              "       'PASTOR VALADARES', 'PAULO BAUER', 'PAULO PAIM', 'PAULO ROCHA',\n",
              "       'PEDRO CHAVES DOS SANTOS FILHO', 'PINTO ITAMARATY',\n",
              "       'RAIMUNDO LIRA', 'RANDOLFE RODRIGUES', 'REGINA SOUSA',\n",
              "       'RENAN CALHEIROS', 'RICARDO FERRAÇO', 'ROBERTO MUNIZ',\n",
              "       'ROBERTO REQUIÃO', 'ROBERTO ROCHA', 'ROMÁRIO', 'ROMERO JUCÁ',\n",
              "       'RONALDO CAIADO', 'ROSE DE FREITAS', 'SÉRGIO DE CASTRO',\n",
              "       'SÉRGIO PETECÃO', 'SIMONE TEBET', 'TASSO JEREISSATI',\n",
              "       'TELMÁRIO MOTA', 'THIERES PINTO', 'VALDIR RAUPP',\n",
              "       'VANESSA GRAZZIOTIN', 'VICENTINHO ALVES', 'WALDEMIR MOKA',\n",
              "       'WALTER PINHEIRO', 'WELLINGTON FAGUNDES', 'WILDER MORAIS',\n",
              "       'ZEZÉ PERRELLA', 'GIVAGO TENÓRIO', 'GUARACY SILVEIRA',\n",
              "       'IONE GUIMARÃES', 'JOSÉ AMAURI', 'REDITARIO CASSOL',\n",
              "       'RODRIGUES PALMA', 'RUDSON LEITE', 'ZÉ SANTANA',\n",
              "       'ALESSANDRO VIEIRA', 'ANGELO CORONEL', 'AROLDE DE OLIVEIRA',\n",
              "       'BLAIRO MAGGI', 'CARLOS VIANA', 'CHICO RODRIGUES', 'CID GOMES',\n",
              "       'CONFÚCIO MOURA', 'DANIELLA RIBEIRO', 'EDUARDO GIRÃO',\n",
              "       'EDUARDO GOMES', 'ELIZIANE GAMA', 'ESPERIDIÃO AMIN',\n",
              "       'FABIANO CONTARATO', 'FLÁVIO ARNS', 'FLÁVIO BOLSONARO', 'IRAJÁ',\n",
              "       'IZALCI LUCAS', 'JAQUES WAGNER', 'JARBAS VASCONCELOS',\n",
              "       'JAYME CAMPOS', 'JEAN PAUL PRATES', 'JORGINHO MELLO',\n",
              "       'JUÍZA SELMA', 'LUCAS BARRETO', 'LUIS CARLOS HEINZE',\n",
              "       'LUIZ CARLOS DO CARMO', 'LUIZ PASTORE', 'MAILZA GOMES',\n",
              "       'MAJOR OLIMPIO', 'MARA GABRILLI', 'MARCELO CASTRO',\n",
              "       'MARCIO BITTAR', 'MARCOS DO VAL', 'MARCOS ROGÉRIO',\n",
              "       'MECIAS DE JESUS', 'NELSINHO TRAD', 'ORIOVISTO GUIMARÃES',\n",
              "       'PAULO ALBUQUERQUE', 'PLÍNIO VALÉRIO', 'PRISCO BEZERRA',\n",
              "       'RENILDE BULHÕES', 'RODRIGO CUNHA', 'RODRIGO PACHECO',\n",
              "       'ROGÉRIO CARVALHO', 'SIQUEIRA CAMPOS', 'SORAYA THRONICKE',\n",
              "       'STYVENSON VALENTIM', 'VANDERLAN CARDOSO',\n",
              "       'VENEZIANO VITAL DO RÊGO', 'WEVERTON ROCHA', 'ZENAIDE MAIA',\n",
              "       'ZEQUINHA MARINHO', 'CARLOS FÁVARO', 'CARLOS PORTINHO',\n",
              "       'DIEGO TAVARES', 'NEY SUASSUNA', 'CHIQUINHO FEITOSA',\n",
              "       'ELIANE NOGUEIRA', 'GIORDANO', 'MARIA ELIZA DE AGUIAR E SILVA',\n",
              "       'NAILDE PANTA', 'NILDA GONDIM', 'VIRGINIO DE CARVALHO'],\n",
              "      dtype=object)"
            ]
          },
          "metadata": {},
          "execution_count": 39
        }
      ]
    },
    {
      "cell_type": "code",
      "source": [
        "senadores_atual = pd.read_csv(\"https://www.senado.leg.br/transparencia/LAI/secrh/parla_inter_csv.csv\", encoding= '1252',sep=';',header=1)\n",
        "senadores_atual.head()\t\t\t\t"
      ],
      "metadata": {
        "colab": {
          "base_uri": "https://localhost:8080/",
          "height": 206
        },
        "id": "vR9e0lqU0tKp",
        "outputId": "bbd3ed9a-300b-49f0-f8e5-3463c3861da0"
      },
      "execution_count": null,
      "outputs": [
        {
          "output_type": "execute_result",
          "data": {
            "text/plain": [
              "     NOME_PARLAMENTAR  PARTIDO  UF TITULARIDADE      MANDATO  \\\n",
              "0        ACIR GURGACZ      PDT  RO      Titular  2015 / 2023   \n",
              "1   ALESSANDRO VIEIRA     PSDB  SE      Titular  2019 / 2027   \n",
              "2  ALEXANDRE SILVEIRA      PSD  MG  1º Suplente  2015 / 2023   \n",
              "3         ALVARO DIAS  PODEMOS  PR      Titular  2015 / 2023   \n",
              "4      ANGELO CORONEL      PSD  BA      Titular  2019 / 2027   \n",
              "\n",
              "                      TELEFONES      DTNASC  \\\n",
              "0  (61)3303-3131,(61)3303-3132,  25/02/1962   \n",
              "1  (61)3303-9011,(61)3303-9014,  03/04/1975   \n",
              "2                (61)3303-5717,  15/07/1970   \n",
              "3  (61)3303-4059,(61)3303-4060,  07/12/1944   \n",
              "4  (61)3303-6103,(61)3303-6105,  03/05/1958   \n",
              "\n",
              "                                 EMAIL                           CHEFE_GAB  \\\n",
              "0        sen.acirgurgacz@senado.leg.br     Marcello Augusto Castro Varella   \n",
              "1   sen.alessandrovieira@senado.leg.br             Elaine Da Silva Gontijo   \n",
              "2  sen.alexandresilveira@senado.leg.br                                   -   \n",
              "3         sen.alvarodias@senado.leg.br  Paulo Kepler Duarte Sampaio Júnior   \n",
              "4      sen.angelocoronel@senado.leg.br             Natanael Alves Ferreira   \n",
              "\n",
              "  ENDERECO                                                                                                                                                                                                                                                                                                                                                                                                                                                                                                                                                                                                                                                                                                                                                                                                                                                                                                                                                \n",
              "0  SENADO FEDERAL ANEXO 2   ALA TANCREDO NEVES GA...                                                                                                                                                                                                                                                                                                                                                                                                                                                                                                                                                                                                                                                                                                                                                                                                                                                                                                      \n",
              "1  SENADO FEDERAL ANEXO 2   ALA AFFONSO ARINOS GA...                                                                                                                                                                                                                                                                                                                                                                                                                                                                                                                                                                                                                                                                                                                                                                                                                                                                                                      \n",
              "2  SENADO FEDERAL ANEXO 2   ALA TANCREDO NEVES GA...                                                                                                                                                                                                                                                                                                                                                                                                                                                                                                                                                                                                                                                                                                                                                                                                                                                                                                      \n",
              "3  SENADO FEDERAL ANEXO 2   ALA NILO COELHO 1º PA...                                                                                                                                                                                                                                                                                                                                                                                                                                                                                                                                                                                                                                                                                                                                                                                                                                                                                                      \n",
              "4  SENADO FEDERAL ANEXO 2   ALA AFFONSO ARINOS GA...                                                                                                                                                                                                                                                                                                                                                                                                                                                                                                                                                                                                                                                                                                                                                                                                                                                                                                      "
            ],
            "text/html": [
              "\n",
              "  <div id=\"df-3d9ccae9-bf5a-459b-bdc7-2c355cb3c6c6\">\n",
              "    <div class=\"colab-df-container\">\n",
              "      <div>\n",
              "<style scoped>\n",
              "    .dataframe tbody tr th:only-of-type {\n",
              "        vertical-align: middle;\n",
              "    }\n",
              "\n",
              "    .dataframe tbody tr th {\n",
              "        vertical-align: top;\n",
              "    }\n",
              "\n",
              "    .dataframe thead th {\n",
              "        text-align: right;\n",
              "    }\n",
              "</style>\n",
              "<table border=\"1\" class=\"dataframe\">\n",
              "  <thead>\n",
              "    <tr style=\"text-align: right;\">\n",
              "      <th></th>\n",
              "      <th>NOME_PARLAMENTAR</th>\n",
              "      <th>PARTIDO</th>\n",
              "      <th>UF</th>\n",
              "      <th>TITULARIDADE</th>\n",
              "      <th>MANDATO</th>\n",
              "      <th>TELEFONES</th>\n",
              "      <th>DTNASC</th>\n",
              "      <th>EMAIL</th>\n",
              "      <th>CHEFE_GAB</th>\n",
              "      <th>ENDERECO</th>\n",
              "    </tr>\n",
              "  </thead>\n",
              "  <tbody>\n",
              "    <tr>\n",
              "      <th>0</th>\n",
              "      <td>ACIR GURGACZ</td>\n",
              "      <td>PDT</td>\n",
              "      <td>RO</td>\n",
              "      <td>Titular</td>\n",
              "      <td>2015 / 2023</td>\n",
              "      <td>(61)3303-3131,(61)3303-3132,</td>\n",
              "      <td>25/02/1962</td>\n",
              "      <td>sen.acirgurgacz@senado.leg.br</td>\n",
              "      <td>Marcello Augusto Castro Varella</td>\n",
              "      <td>SENADO FEDERAL ANEXO 2   ALA TANCREDO NEVES GA...</td>\n",
              "    </tr>\n",
              "    <tr>\n",
              "      <th>1</th>\n",
              "      <td>ALESSANDRO VIEIRA</td>\n",
              "      <td>PSDB</td>\n",
              "      <td>SE</td>\n",
              "      <td>Titular</td>\n",
              "      <td>2019 / 2027</td>\n",
              "      <td>(61)3303-9011,(61)3303-9014,</td>\n",
              "      <td>03/04/1975</td>\n",
              "      <td>sen.alessandrovieira@senado.leg.br</td>\n",
              "      <td>Elaine Da Silva Gontijo</td>\n",
              "      <td>SENADO FEDERAL ANEXO 2   ALA AFFONSO ARINOS GA...</td>\n",
              "    </tr>\n",
              "    <tr>\n",
              "      <th>2</th>\n",
              "      <td>ALEXANDRE SILVEIRA</td>\n",
              "      <td>PSD</td>\n",
              "      <td>MG</td>\n",
              "      <td>1º Suplente</td>\n",
              "      <td>2015 / 2023</td>\n",
              "      <td>(61)3303-5717,</td>\n",
              "      <td>15/07/1970</td>\n",
              "      <td>sen.alexandresilveira@senado.leg.br</td>\n",
              "      <td>-</td>\n",
              "      <td>SENADO FEDERAL ANEXO 2   ALA TANCREDO NEVES GA...</td>\n",
              "    </tr>\n",
              "    <tr>\n",
              "      <th>3</th>\n",
              "      <td>ALVARO DIAS</td>\n",
              "      <td>PODEMOS</td>\n",
              "      <td>PR</td>\n",
              "      <td>Titular</td>\n",
              "      <td>2015 / 2023</td>\n",
              "      <td>(61)3303-4059,(61)3303-4060,</td>\n",
              "      <td>07/12/1944</td>\n",
              "      <td>sen.alvarodias@senado.leg.br</td>\n",
              "      <td>Paulo Kepler Duarte Sampaio Júnior</td>\n",
              "      <td>SENADO FEDERAL ANEXO 2   ALA NILO COELHO 1º PA...</td>\n",
              "    </tr>\n",
              "    <tr>\n",
              "      <th>4</th>\n",
              "      <td>ANGELO CORONEL</td>\n",
              "      <td>PSD</td>\n",
              "      <td>BA</td>\n",
              "      <td>Titular</td>\n",
              "      <td>2019 / 2027</td>\n",
              "      <td>(61)3303-6103,(61)3303-6105,</td>\n",
              "      <td>03/05/1958</td>\n",
              "      <td>sen.angelocoronel@senado.leg.br</td>\n",
              "      <td>Natanael Alves Ferreira</td>\n",
              "      <td>SENADO FEDERAL ANEXO 2   ALA AFFONSO ARINOS GA...</td>\n",
              "    </tr>\n",
              "  </tbody>\n",
              "</table>\n",
              "</div>\n",
              "      <button class=\"colab-df-convert\" onclick=\"convertToInteractive('df-3d9ccae9-bf5a-459b-bdc7-2c355cb3c6c6')\"\n",
              "              title=\"Convert this dataframe to an interactive table.\"\n",
              "              style=\"display:none;\">\n",
              "        \n",
              "  <svg xmlns=\"http://www.w3.org/2000/svg\" height=\"24px\"viewBox=\"0 0 24 24\"\n",
              "       width=\"24px\">\n",
              "    <path d=\"M0 0h24v24H0V0z\" fill=\"none\"/>\n",
              "    <path d=\"M18.56 5.44l.94 2.06.94-2.06 2.06-.94-2.06-.94-.94-2.06-.94 2.06-2.06.94zm-11 1L8.5 8.5l.94-2.06 2.06-.94-2.06-.94L8.5 2.5l-.94 2.06-2.06.94zm10 10l.94 2.06.94-2.06 2.06-.94-2.06-.94-.94-2.06-.94 2.06-2.06.94z\"/><path d=\"M17.41 7.96l-1.37-1.37c-.4-.4-.92-.59-1.43-.59-.52 0-1.04.2-1.43.59L10.3 9.45l-7.72 7.72c-.78.78-.78 2.05 0 2.83L4 21.41c.39.39.9.59 1.41.59.51 0 1.02-.2 1.41-.59l7.78-7.78 2.81-2.81c.8-.78.8-2.07 0-2.86zM5.41 20L4 18.59l7.72-7.72 1.47 1.35L5.41 20z\"/>\n",
              "  </svg>\n",
              "      </button>\n",
              "      \n",
              "  <style>\n",
              "    .colab-df-container {\n",
              "      display:flex;\n",
              "      flex-wrap:wrap;\n",
              "      gap: 12px;\n",
              "    }\n",
              "\n",
              "    .colab-df-convert {\n",
              "      background-color: #E8F0FE;\n",
              "      border: none;\n",
              "      border-radius: 50%;\n",
              "      cursor: pointer;\n",
              "      display: none;\n",
              "      fill: #1967D2;\n",
              "      height: 32px;\n",
              "      padding: 0 0 0 0;\n",
              "      width: 32px;\n",
              "    }\n",
              "\n",
              "    .colab-df-convert:hover {\n",
              "      background-color: #E2EBFA;\n",
              "      box-shadow: 0px 1px 2px rgba(60, 64, 67, 0.3), 0px 1px 3px 1px rgba(60, 64, 67, 0.15);\n",
              "      fill: #174EA6;\n",
              "    }\n",
              "\n",
              "    [theme=dark] .colab-df-convert {\n",
              "      background-color: #3B4455;\n",
              "      fill: #D2E3FC;\n",
              "    }\n",
              "\n",
              "    [theme=dark] .colab-df-convert:hover {\n",
              "      background-color: #434B5C;\n",
              "      box-shadow: 0px 1px 3px 1px rgba(0, 0, 0, 0.15);\n",
              "      filter: drop-shadow(0px 1px 2px rgba(0, 0, 0, 0.3));\n",
              "      fill: #FFFFFF;\n",
              "    }\n",
              "  </style>\n",
              "\n",
              "      <script>\n",
              "        const buttonEl =\n",
              "          document.querySelector('#df-3d9ccae9-bf5a-459b-bdc7-2c355cb3c6c6 button.colab-df-convert');\n",
              "        buttonEl.style.display =\n",
              "          google.colab.kernel.accessAllowed ? 'block' : 'none';\n",
              "\n",
              "        async function convertToInteractive(key) {\n",
              "          const element = document.querySelector('#df-3d9ccae9-bf5a-459b-bdc7-2c355cb3c6c6');\n",
              "          const dataTable =\n",
              "            await google.colab.kernel.invokeFunction('convertToInteractive',\n",
              "                                                     [key], {});\n",
              "          if (!dataTable) return;\n",
              "\n",
              "          const docLinkHtml = 'Like what you see? Visit the ' +\n",
              "            '<a target=\"_blank\" href=https://colab.research.google.com/notebooks/data_table.ipynb>data table notebook</a>'\n",
              "            + ' to learn more about interactive tables.';\n",
              "          element.innerHTML = '';\n",
              "          dataTable['output_type'] = 'display_data';\n",
              "          await google.colab.output.renderOutput(dataTable, element);\n",
              "          const docLink = document.createElement('div');\n",
              "          docLink.innerHTML = docLinkHtml;\n",
              "          element.appendChild(docLink);\n",
              "        }\n",
              "      </script>\n",
              "    </div>\n",
              "  </div>\n",
              "  "
            ]
          },
          "metadata": {},
          "execution_count": 78
        }
      ]
    },
    {
      "cell_type": "code",
      "source": [
        "len(senadores_atual['NOME_PARLAMENTAR'].unique())"
      ],
      "metadata": {
        "colab": {
          "base_uri": "https://localhost:8080/"
        },
        "id": "Ia3Oqr572Zdu",
        "outputId": "d76296ea-35fd-42dc-ea5d-f55c55b8ac90"
      },
      "execution_count": null,
      "outputs": [
        {
          "output_type": "execute_result",
          "data": {
            "text/plain": [
              "81"
            ]
          },
          "metadata": {},
          "execution_count": 79
        }
      ]
    },
    {
      "cell_type": "code",
      "source": [
        "senadores_atual.columns"
      ],
      "metadata": {
        "colab": {
          "base_uri": "https://localhost:8080/"
        },
        "id": "Y7BTsII76JkR",
        "outputId": "07698d1d-39b3-48e3-a82b-75cb030e00c2"
      },
      "execution_count": null,
      "outputs": [
        {
          "output_type": "execute_result",
          "data": {
            "text/plain": [
              "Index(['NOME_PARLAMENTAR', 'PARTIDO', 'UF', 'TITULARIDADE', 'MANDATO',\n",
              "       'TELEFONES', 'DTNASC', 'EMAIL', 'CHEFE_GAB',\n",
              "       'ENDERECO                                                                                                                                                                                                                                                                                                                                                                                                                                                                                                                                                                                                                                                                                                                                                                                                                                                                                                                                              '],\n",
              "      dtype='object')"
            ]
          },
          "metadata": {},
          "execution_count": 80
        }
      ]
    },
    {
      "cell_type": "code",
      "source": [
        "senadores_atual.drop(senadores_atual[[ 'TITULARIDADE','TELEFONES', 'EMAIL', 'CHEFE_GAB','DTNASC','ENDERECO                                                                                                                                                                                                                                                                                                                                                                                                                                                                                                                                                                                                                                                                                                                                                                                                                                                                                                                                              ']],axis=1,inplace=True)"
      ],
      "metadata": {
        "id": "gcScOJIs3bJ6"
      },
      "execution_count": null,
      "outputs": []
    },
    {
      "cell_type": "code",
      "source": [
        "senadores_atual.head()"
      ],
      "metadata": {
        "colab": {
          "base_uri": "https://localhost:8080/",
          "height": 206
        },
        "id": "54i-x2yG5jgL",
        "outputId": "9cbaf7df-c537-4acb-c9a0-ef09053dccee"
      },
      "execution_count": null,
      "outputs": [
        {
          "output_type": "execute_result",
          "data": {
            "text/plain": [
              "     NOME_PARLAMENTAR  PARTIDO  UF      MANDATO\n",
              "0        ACIR GURGACZ      PDT  RO  2015 / 2023\n",
              "1   ALESSANDRO VIEIRA     PSDB  SE  2019 / 2027\n",
              "2  ALEXANDRE SILVEIRA      PSD  MG  2015 / 2023\n",
              "3         ALVARO DIAS  PODEMOS  PR  2015 / 2023\n",
              "4      ANGELO CORONEL      PSD  BA  2019 / 2027"
            ],
            "text/html": [
              "\n",
              "  <div id=\"df-14b9a9aa-c259-4e4c-80cb-e208f79a931f\">\n",
              "    <div class=\"colab-df-container\">\n",
              "      <div>\n",
              "<style scoped>\n",
              "    .dataframe tbody tr th:only-of-type {\n",
              "        vertical-align: middle;\n",
              "    }\n",
              "\n",
              "    .dataframe tbody tr th {\n",
              "        vertical-align: top;\n",
              "    }\n",
              "\n",
              "    .dataframe thead th {\n",
              "        text-align: right;\n",
              "    }\n",
              "</style>\n",
              "<table border=\"1\" class=\"dataframe\">\n",
              "  <thead>\n",
              "    <tr style=\"text-align: right;\">\n",
              "      <th></th>\n",
              "      <th>NOME_PARLAMENTAR</th>\n",
              "      <th>PARTIDO</th>\n",
              "      <th>UF</th>\n",
              "      <th>MANDATO</th>\n",
              "    </tr>\n",
              "  </thead>\n",
              "  <tbody>\n",
              "    <tr>\n",
              "      <th>0</th>\n",
              "      <td>ACIR GURGACZ</td>\n",
              "      <td>PDT</td>\n",
              "      <td>RO</td>\n",
              "      <td>2015 / 2023</td>\n",
              "    </tr>\n",
              "    <tr>\n",
              "      <th>1</th>\n",
              "      <td>ALESSANDRO VIEIRA</td>\n",
              "      <td>PSDB</td>\n",
              "      <td>SE</td>\n",
              "      <td>2019 / 2027</td>\n",
              "    </tr>\n",
              "    <tr>\n",
              "      <th>2</th>\n",
              "      <td>ALEXANDRE SILVEIRA</td>\n",
              "      <td>PSD</td>\n",
              "      <td>MG</td>\n",
              "      <td>2015 / 2023</td>\n",
              "    </tr>\n",
              "    <tr>\n",
              "      <th>3</th>\n",
              "      <td>ALVARO DIAS</td>\n",
              "      <td>PODEMOS</td>\n",
              "      <td>PR</td>\n",
              "      <td>2015 / 2023</td>\n",
              "    </tr>\n",
              "    <tr>\n",
              "      <th>4</th>\n",
              "      <td>ANGELO CORONEL</td>\n",
              "      <td>PSD</td>\n",
              "      <td>BA</td>\n",
              "      <td>2019 / 2027</td>\n",
              "    </tr>\n",
              "  </tbody>\n",
              "</table>\n",
              "</div>\n",
              "      <button class=\"colab-df-convert\" onclick=\"convertToInteractive('df-14b9a9aa-c259-4e4c-80cb-e208f79a931f')\"\n",
              "              title=\"Convert this dataframe to an interactive table.\"\n",
              "              style=\"display:none;\">\n",
              "        \n",
              "  <svg xmlns=\"http://www.w3.org/2000/svg\" height=\"24px\"viewBox=\"0 0 24 24\"\n",
              "       width=\"24px\">\n",
              "    <path d=\"M0 0h24v24H0V0z\" fill=\"none\"/>\n",
              "    <path d=\"M18.56 5.44l.94 2.06.94-2.06 2.06-.94-2.06-.94-.94-2.06-.94 2.06-2.06.94zm-11 1L8.5 8.5l.94-2.06 2.06-.94-2.06-.94L8.5 2.5l-.94 2.06-2.06.94zm10 10l.94 2.06.94-2.06 2.06-.94-2.06-.94-.94-2.06-.94 2.06-2.06.94z\"/><path d=\"M17.41 7.96l-1.37-1.37c-.4-.4-.92-.59-1.43-.59-.52 0-1.04.2-1.43.59L10.3 9.45l-7.72 7.72c-.78.78-.78 2.05 0 2.83L4 21.41c.39.39.9.59 1.41.59.51 0 1.02-.2 1.41-.59l7.78-7.78 2.81-2.81c.8-.78.8-2.07 0-2.86zM5.41 20L4 18.59l7.72-7.72 1.47 1.35L5.41 20z\"/>\n",
              "  </svg>\n",
              "      </button>\n",
              "      \n",
              "  <style>\n",
              "    .colab-df-container {\n",
              "      display:flex;\n",
              "      flex-wrap:wrap;\n",
              "      gap: 12px;\n",
              "    }\n",
              "\n",
              "    .colab-df-convert {\n",
              "      background-color: #E8F0FE;\n",
              "      border: none;\n",
              "      border-radius: 50%;\n",
              "      cursor: pointer;\n",
              "      display: none;\n",
              "      fill: #1967D2;\n",
              "      height: 32px;\n",
              "      padding: 0 0 0 0;\n",
              "      width: 32px;\n",
              "    }\n",
              "\n",
              "    .colab-df-convert:hover {\n",
              "      background-color: #E2EBFA;\n",
              "      box-shadow: 0px 1px 2px rgba(60, 64, 67, 0.3), 0px 1px 3px 1px rgba(60, 64, 67, 0.15);\n",
              "      fill: #174EA6;\n",
              "    }\n",
              "\n",
              "    [theme=dark] .colab-df-convert {\n",
              "      background-color: #3B4455;\n",
              "      fill: #D2E3FC;\n",
              "    }\n",
              "\n",
              "    [theme=dark] .colab-df-convert:hover {\n",
              "      background-color: #434B5C;\n",
              "      box-shadow: 0px 1px 3px 1px rgba(0, 0, 0, 0.15);\n",
              "      filter: drop-shadow(0px 1px 2px rgba(0, 0, 0, 0.3));\n",
              "      fill: #FFFFFF;\n",
              "    }\n",
              "  </style>\n",
              "\n",
              "      <script>\n",
              "        const buttonEl =\n",
              "          document.querySelector('#df-14b9a9aa-c259-4e4c-80cb-e208f79a931f button.colab-df-convert');\n",
              "        buttonEl.style.display =\n",
              "          google.colab.kernel.accessAllowed ? 'block' : 'none';\n",
              "\n",
              "        async function convertToInteractive(key) {\n",
              "          const element = document.querySelector('#df-14b9a9aa-c259-4e4c-80cb-e208f79a931f');\n",
              "          const dataTable =\n",
              "            await google.colab.kernel.invokeFunction('convertToInteractive',\n",
              "                                                     [key], {});\n",
              "          if (!dataTable) return;\n",
              "\n",
              "          const docLinkHtml = 'Like what you see? Visit the ' +\n",
              "            '<a target=\"_blank\" href=https://colab.research.google.com/notebooks/data_table.ipynb>data table notebook</a>'\n",
              "            + ' to learn more about interactive tables.';\n",
              "          element.innerHTML = '';\n",
              "          dataTable['output_type'] = 'display_data';\n",
              "          await google.colab.output.renderOutput(dataTable, element);\n",
              "          const docLink = document.createElement('div');\n",
              "          docLink.innerHTML = docLinkHtml;\n",
              "          element.appendChild(docLink);\n",
              "        }\n",
              "      </script>\n",
              "    </div>\n",
              "  </div>\n",
              "  "
            ]
          },
          "metadata": {},
          "execution_count": 82
        }
      ]
    },
    {
      "cell_type": "markdown",
      "source": [
        "# Analise exploratória sobre os valores Reembolsados\n",
        "\n",
        "---"
      ],
      "metadata": {
        "id": "igzkXQwquXD7"
      }
    },
    {
      "cell_type": "code",
      "source": [
        "df['VALOR_REEMBOLSADO'].describe()"
      ],
      "metadata": {
        "colab": {
          "base_uri": "https://localhost:8080/"
        },
        "id": "14rG6NWIvL9U",
        "outputId": "fa31a191-223b-4486-d2a2-d801b4239f2d"
      },
      "execution_count": null,
      "outputs": [
        {
          "output_type": "execute_result",
          "data": {
            "text/plain": [
              "count    103804.000000\n",
              "mean       1177.413687\n",
              "std        2869.065304\n",
              "min        -243.400000\n",
              "25%         135.000000\n",
              "50%         348.695000\n",
              "75%        1251.212500\n",
              "max      270000.000000\n",
              "Name: VALOR_REEMBOLSADO, dtype: float64"
            ]
          },
          "metadata": {},
          "execution_count": 23
        }
      ]
    },
    {
      "cell_type": "markdown",
      "source": [
        "* Aparetemente pode existir valores de reembolso negativo.Vale apena observar este comportamento\n",
        "\n",
        "* O Maior valor reembolsado foi de R$ 270.000,00"
      ],
      "metadata": {
        "id": "kKGNtEsmwzJP"
      }
    },
    {
      "cell_type": "code",
      "source": [
        "df.loc[(df['VALOR_REEMBOLSADO']<0)]"
      ],
      "metadata": {
        "colab": {
          "base_uri": "https://localhost:8080/",
          "height": 81
        },
        "id": "dijiKErmwybR",
        "outputId": "865b344f-d750-4cc3-8226-7f4af2dfe7fc"
      },
      "execution_count": null,
      "outputs": [
        {
          "output_type": "execute_result",
          "data": {
            "text/plain": [
              "           SENADOR                                       TIPO_DESPESA  \\\n",
              "4384  DÁRIO BERGER  Contratação de consultorias, assessorias, pesq...   \n",
              "\n",
              "                CNPJ_CPF              FORNECEDOR DOCUMENTO       DATA  \\\n",
              "4384  73.228.876/0001-63  TV CLIPAGEM LTDA. EPP.    001661 2017-06-02   \n",
              "\n",
              "                                           DETALHAMENTO  VALOR_REEMBOLSADO  \\\n",
              "4384  Despesa com Monitoramento de Informação Jornal...             -243.4   \n",
              "\n",
              "      COD_DOCUMENTO  \n",
              "4384        2068568  "
            ],
            "text/html": [
              "\n",
              "  <div id=\"df-d92b5c6c-da24-4f2f-9b82-14f7417901bb\">\n",
              "    <div class=\"colab-df-container\">\n",
              "      <div>\n",
              "<style scoped>\n",
              "    .dataframe tbody tr th:only-of-type {\n",
              "        vertical-align: middle;\n",
              "    }\n",
              "\n",
              "    .dataframe tbody tr th {\n",
              "        vertical-align: top;\n",
              "    }\n",
              "\n",
              "    .dataframe thead th {\n",
              "        text-align: right;\n",
              "    }\n",
              "</style>\n",
              "<table border=\"1\" class=\"dataframe\">\n",
              "  <thead>\n",
              "    <tr style=\"text-align: right;\">\n",
              "      <th></th>\n",
              "      <th>SENADOR</th>\n",
              "      <th>TIPO_DESPESA</th>\n",
              "      <th>CNPJ_CPF</th>\n",
              "      <th>FORNECEDOR</th>\n",
              "      <th>DOCUMENTO</th>\n",
              "      <th>DATA</th>\n",
              "      <th>DETALHAMENTO</th>\n",
              "      <th>VALOR_REEMBOLSADO</th>\n",
              "      <th>COD_DOCUMENTO</th>\n",
              "    </tr>\n",
              "  </thead>\n",
              "  <tbody>\n",
              "    <tr>\n",
              "      <th>4384</th>\n",
              "      <td>DÁRIO BERGER</td>\n",
              "      <td>Contratação de consultorias, assessorias, pesq...</td>\n",
              "      <td>73.228.876/0001-63</td>\n",
              "      <td>TV CLIPAGEM LTDA. EPP.</td>\n",
              "      <td>001661</td>\n",
              "      <td>2017-06-02</td>\n",
              "      <td>Despesa com Monitoramento de Informação Jornal...</td>\n",
              "      <td>-243.4</td>\n",
              "      <td>2068568</td>\n",
              "    </tr>\n",
              "  </tbody>\n",
              "</table>\n",
              "</div>\n",
              "      <button class=\"colab-df-convert\" onclick=\"convertToInteractive('df-d92b5c6c-da24-4f2f-9b82-14f7417901bb')\"\n",
              "              title=\"Convert this dataframe to an interactive table.\"\n",
              "              style=\"display:none;\">\n",
              "        \n",
              "  <svg xmlns=\"http://www.w3.org/2000/svg\" height=\"24px\"viewBox=\"0 0 24 24\"\n",
              "       width=\"24px\">\n",
              "    <path d=\"M0 0h24v24H0V0z\" fill=\"none\"/>\n",
              "    <path d=\"M18.56 5.44l.94 2.06.94-2.06 2.06-.94-2.06-.94-.94-2.06-.94 2.06-2.06.94zm-11 1L8.5 8.5l.94-2.06 2.06-.94-2.06-.94L8.5 2.5l-.94 2.06-2.06.94zm10 10l.94 2.06.94-2.06 2.06-.94-2.06-.94-.94-2.06-.94 2.06-2.06.94z\"/><path d=\"M17.41 7.96l-1.37-1.37c-.4-.4-.92-.59-1.43-.59-.52 0-1.04.2-1.43.59L10.3 9.45l-7.72 7.72c-.78.78-.78 2.05 0 2.83L4 21.41c.39.39.9.59 1.41.59.51 0 1.02-.2 1.41-.59l7.78-7.78 2.81-2.81c.8-.78.8-2.07 0-2.86zM5.41 20L4 18.59l7.72-7.72 1.47 1.35L5.41 20z\"/>\n",
              "  </svg>\n",
              "      </button>\n",
              "      \n",
              "  <style>\n",
              "    .colab-df-container {\n",
              "      display:flex;\n",
              "      flex-wrap:wrap;\n",
              "      gap: 12px;\n",
              "    }\n",
              "\n",
              "    .colab-df-convert {\n",
              "      background-color: #E8F0FE;\n",
              "      border: none;\n",
              "      border-radius: 50%;\n",
              "      cursor: pointer;\n",
              "      display: none;\n",
              "      fill: #1967D2;\n",
              "      height: 32px;\n",
              "      padding: 0 0 0 0;\n",
              "      width: 32px;\n",
              "    }\n",
              "\n",
              "    .colab-df-convert:hover {\n",
              "      background-color: #E2EBFA;\n",
              "      box-shadow: 0px 1px 2px rgba(60, 64, 67, 0.3), 0px 1px 3px 1px rgba(60, 64, 67, 0.15);\n",
              "      fill: #174EA6;\n",
              "    }\n",
              "\n",
              "    [theme=dark] .colab-df-convert {\n",
              "      background-color: #3B4455;\n",
              "      fill: #D2E3FC;\n",
              "    }\n",
              "\n",
              "    [theme=dark] .colab-df-convert:hover {\n",
              "      background-color: #434B5C;\n",
              "      box-shadow: 0px 1px 3px 1px rgba(0, 0, 0, 0.15);\n",
              "      filter: drop-shadow(0px 1px 2px rgba(0, 0, 0, 0.3));\n",
              "      fill: #FFFFFF;\n",
              "    }\n",
              "  </style>\n",
              "\n",
              "      <script>\n",
              "        const buttonEl =\n",
              "          document.querySelector('#df-d92b5c6c-da24-4f2f-9b82-14f7417901bb button.colab-df-convert');\n",
              "        buttonEl.style.display =\n",
              "          google.colab.kernel.accessAllowed ? 'block' : 'none';\n",
              "\n",
              "        async function convertToInteractive(key) {\n",
              "          const element = document.querySelector('#df-d92b5c6c-da24-4f2f-9b82-14f7417901bb');\n",
              "          const dataTable =\n",
              "            await google.colab.kernel.invokeFunction('convertToInteractive',\n",
              "                                                     [key], {});\n",
              "          if (!dataTable) return;\n",
              "\n",
              "          const docLinkHtml = 'Like what you see? Visit the ' +\n",
              "            '<a target=\"_blank\" href=https://colab.research.google.com/notebooks/data_table.ipynb>data table notebook</a>'\n",
              "            + ' to learn more about interactive tables.';\n",
              "          element.innerHTML = '';\n",
              "          dataTable['output_type'] = 'display_data';\n",
              "          await google.colab.output.renderOutput(dataTable, element);\n",
              "          const docLink = document.createElement('div');\n",
              "          docLink.innerHTML = docLinkHtml;\n",
              "          element.appendChild(docLink);\n",
              "        }\n",
              "      </script>\n",
              "    </div>\n",
              "  </div>\n",
              "  "
            ]
          },
          "metadata": {},
          "execution_count": 24
        }
      ]
    },
    {
      "cell_type": "markdown",
      "source": [
        "* O valor negativo foi pedido pelo senador [DARIO BERGER](https://www25.senado.leg.br/web/senadores/senador/-/perfil/5537) pelo serviço prestado pela TV CLipagem que hj recebe o nome de [Studio CLipagem](https://www.studioclipagem.com.br/) em Florianopolis. \n",
        "* O senador Dario Berger é de Santa Catarina. "
      ],
      "metadata": {
        "id": "qhKAKf8BxqGm"
      }
    },
    {
      "cell_type": "code",
      "source": [
        "df.loc[(df['VALOR_REEMBOLSADO']==270000)]"
      ],
      "metadata": {
        "colab": {
          "base_uri": "https://localhost:8080/",
          "height": 81
        },
        "id": "7FsXCG9b0AHW",
        "outputId": "ef13788d-2138-4f42-91dc-778757d350a8"
      },
      "execution_count": null,
      "outputs": [
        {
          "output_type": "execute_result",
          "data": {
            "text/plain": [
              "              SENADOR                         TIPO_DESPESA  \\\n",
              "4716  DAVI ALCOLUMBRE  Divulgação da atividade parlamentar   \n",
              "\n",
              "                CNPJ_CPF                             FORNECEDOR DOCUMENTO  \\\n",
              "4716  29.337.655/0001-31  Start print Comunicação Visual Eireli        36   \n",
              "\n",
              "           DATA DETALHAMENTO  VALOR_REEMBOLSADO  COD_DOCUMENTO  \n",
              "4716 2018-03-15          NaN           270000.0        2090997  "
            ],
            "text/html": [
              "\n",
              "  <div id=\"df-311e1cd7-f475-4792-94bd-1fc3c7454a8a\">\n",
              "    <div class=\"colab-df-container\">\n",
              "      <div>\n",
              "<style scoped>\n",
              "    .dataframe tbody tr th:only-of-type {\n",
              "        vertical-align: middle;\n",
              "    }\n",
              "\n",
              "    .dataframe tbody tr th {\n",
              "        vertical-align: top;\n",
              "    }\n",
              "\n",
              "    .dataframe thead th {\n",
              "        text-align: right;\n",
              "    }\n",
              "</style>\n",
              "<table border=\"1\" class=\"dataframe\">\n",
              "  <thead>\n",
              "    <tr style=\"text-align: right;\">\n",
              "      <th></th>\n",
              "      <th>SENADOR</th>\n",
              "      <th>TIPO_DESPESA</th>\n",
              "      <th>CNPJ_CPF</th>\n",
              "      <th>FORNECEDOR</th>\n",
              "      <th>DOCUMENTO</th>\n",
              "      <th>DATA</th>\n",
              "      <th>DETALHAMENTO</th>\n",
              "      <th>VALOR_REEMBOLSADO</th>\n",
              "      <th>COD_DOCUMENTO</th>\n",
              "    </tr>\n",
              "  </thead>\n",
              "  <tbody>\n",
              "    <tr>\n",
              "      <th>4716</th>\n",
              "      <td>DAVI ALCOLUMBRE</td>\n",
              "      <td>Divulgação da atividade parlamentar</td>\n",
              "      <td>29.337.655/0001-31</td>\n",
              "      <td>Start print Comunicação Visual Eireli</td>\n",
              "      <td>36</td>\n",
              "      <td>2018-03-15</td>\n",
              "      <td>NaN</td>\n",
              "      <td>270000.0</td>\n",
              "      <td>2090997</td>\n",
              "    </tr>\n",
              "  </tbody>\n",
              "</table>\n",
              "</div>\n",
              "      <button class=\"colab-df-convert\" onclick=\"convertToInteractive('df-311e1cd7-f475-4792-94bd-1fc3c7454a8a')\"\n",
              "              title=\"Convert this dataframe to an interactive table.\"\n",
              "              style=\"display:none;\">\n",
              "        \n",
              "  <svg xmlns=\"http://www.w3.org/2000/svg\" height=\"24px\"viewBox=\"0 0 24 24\"\n",
              "       width=\"24px\">\n",
              "    <path d=\"M0 0h24v24H0V0z\" fill=\"none\"/>\n",
              "    <path d=\"M18.56 5.44l.94 2.06.94-2.06 2.06-.94-2.06-.94-.94-2.06-.94 2.06-2.06.94zm-11 1L8.5 8.5l.94-2.06 2.06-.94-2.06-.94L8.5 2.5l-.94 2.06-2.06.94zm10 10l.94 2.06.94-2.06 2.06-.94-2.06-.94-.94-2.06-.94 2.06-2.06.94z\"/><path d=\"M17.41 7.96l-1.37-1.37c-.4-.4-.92-.59-1.43-.59-.52 0-1.04.2-1.43.59L10.3 9.45l-7.72 7.72c-.78.78-.78 2.05 0 2.83L4 21.41c.39.39.9.59 1.41.59.51 0 1.02-.2 1.41-.59l7.78-7.78 2.81-2.81c.8-.78.8-2.07 0-2.86zM5.41 20L4 18.59l7.72-7.72 1.47 1.35L5.41 20z\"/>\n",
              "  </svg>\n",
              "      </button>\n",
              "      \n",
              "  <style>\n",
              "    .colab-df-container {\n",
              "      display:flex;\n",
              "      flex-wrap:wrap;\n",
              "      gap: 12px;\n",
              "    }\n",
              "\n",
              "    .colab-df-convert {\n",
              "      background-color: #E8F0FE;\n",
              "      border: none;\n",
              "      border-radius: 50%;\n",
              "      cursor: pointer;\n",
              "      display: none;\n",
              "      fill: #1967D2;\n",
              "      height: 32px;\n",
              "      padding: 0 0 0 0;\n",
              "      width: 32px;\n",
              "    }\n",
              "\n",
              "    .colab-df-convert:hover {\n",
              "      background-color: #E2EBFA;\n",
              "      box-shadow: 0px 1px 2px rgba(60, 64, 67, 0.3), 0px 1px 3px 1px rgba(60, 64, 67, 0.15);\n",
              "      fill: #174EA6;\n",
              "    }\n",
              "\n",
              "    [theme=dark] .colab-df-convert {\n",
              "      background-color: #3B4455;\n",
              "      fill: #D2E3FC;\n",
              "    }\n",
              "\n",
              "    [theme=dark] .colab-df-convert:hover {\n",
              "      background-color: #434B5C;\n",
              "      box-shadow: 0px 1px 3px 1px rgba(0, 0, 0, 0.15);\n",
              "      filter: drop-shadow(0px 1px 2px rgba(0, 0, 0, 0.3));\n",
              "      fill: #FFFFFF;\n",
              "    }\n",
              "  </style>\n",
              "\n",
              "      <script>\n",
              "        const buttonEl =\n",
              "          document.querySelector('#df-311e1cd7-f475-4792-94bd-1fc3c7454a8a button.colab-df-convert');\n",
              "        buttonEl.style.display =\n",
              "          google.colab.kernel.accessAllowed ? 'block' : 'none';\n",
              "\n",
              "        async function convertToInteractive(key) {\n",
              "          const element = document.querySelector('#df-311e1cd7-f475-4792-94bd-1fc3c7454a8a');\n",
              "          const dataTable =\n",
              "            await google.colab.kernel.invokeFunction('convertToInteractive',\n",
              "                                                     [key], {});\n",
              "          if (!dataTable) return;\n",
              "\n",
              "          const docLinkHtml = 'Like what you see? Visit the ' +\n",
              "            '<a target=\"_blank\" href=https://colab.research.google.com/notebooks/data_table.ipynb>data table notebook</a>'\n",
              "            + ' to learn more about interactive tables.';\n",
              "          element.innerHTML = '';\n",
              "          dataTable['output_type'] = 'display_data';\n",
              "          await google.colab.output.renderOutput(dataTable, element);\n",
              "          const docLink = document.createElement('div');\n",
              "          docLink.innerHTML = docLinkHtml;\n",
              "          element.appendChild(docLink);\n",
              "        }\n",
              "      </script>\n",
              "    </div>\n",
              "  </div>\n",
              "  "
            ]
          },
          "metadata": {},
          "execution_count": 25
        }
      ]
    },
    {
      "cell_type": "markdown",
      "source": [
        "* O maior valor neste periodo foi pedido pelo senador [DAVI ALCOLUMBRE](https://www25.senado.leg.br/web/senadores/senador/-/perfil/3830) e foi oferecido pela empresa [Start Print](https://www.startprint.bsb.br/) que trabalha com layouts e sinalização de fachadas. \n",
        "\n",
        "* A sede da empresa se localiza em Brasilia e foi fundada no dia 2/01/2018, quase 2 meses antes de prestar o serviço de R$ 270.000,00. [Info's\n",
        "sobre a empresa](https://brasilcnpj.org/df/brasilia/start-print-comunicacao-visual-ltda-29337655000131)\n",
        "* Seu fundador é [LUIZ FLAVIO ARMONDES MOREIRA](https://www.jusbrasil.com.br/processos/nome/185392909/luiz-flavio-armondes-moreira) que responde a 7 processos . \t"
      ],
      "metadata": {
        "id": "U2X2oATo0VQu"
      }
    },
    {
      "cell_type": "code",
      "source": [
        "np.quantile(df['VALOR_REEMBOLSADO'],q =0.90)"
      ],
      "metadata": {
        "colab": {
          "base_uri": "https://localhost:8080/"
        },
        "id": "V8Ak8wzivays",
        "outputId": "8c7f0216-40b2-4f5c-fc49-d598b9456e1b"
      },
      "execution_count": null,
      "outputs": [
        {
          "output_type": "execute_result",
          "data": {
            "text/plain": [
              "2537.47"
            ]
          },
          "metadata": {},
          "execution_count": 26
        }
      ]
    },
    {
      "cell_type": "markdown",
      "source": [
        "* 90% dos VALORES REEMBOLSADOS se encontram abaixo de R$ 3000,00. "
      ],
      "metadata": {
        "id": "V_ZrcHdnzhRA"
      }
    },
    {
      "cell_type": "code",
      "source": [
        "df.groupby('SENADOR')['VALOR_REEMBOLSADO'].count().sort_values(ascending=False)"
      ],
      "metadata": {
        "colab": {
          "base_uri": "https://localhost:8080/"
        },
        "id": "sk046gbRzcJc",
        "outputId": "5631d2a5-137d-48d2-8826-0f1d8cb4eb69"
      },
      "execution_count": null,
      "outputs": [
        {
          "output_type": "execute_result",
          "data": {
            "text/plain": [
              "SENADOR\n",
              "WELLINGTON FAGUNDES        3390\n",
              "HUMBERTO COSTA             2797\n",
              "PAULO PAIM                 2783\n",
              "JOSÉ SERRA                 2284\n",
              "FERNANDO BEZERRA COELHO    2075\n",
              "                           ... \n",
              "PINTO ITAMARATY               4\n",
              "SIQUEIRA CAMPOS               4\n",
              "VIRGINIO DE CARVALHO          3\n",
              "PASTOR VALADARES              3\n",
              "NAILDE PANTA                  1\n",
              "Name: VALOR_REEMBOLSADO, Length: 160, dtype: int64"
            ]
          },
          "metadata": {},
          "execution_count": 30
        }
      ]
    },
    {
      "cell_type": "code",
      "source": [],
      "metadata": {
        "id": "DeLWGhO97JNb"
      },
      "execution_count": null,
      "outputs": []
    }
  ]
}